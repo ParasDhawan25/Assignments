{
 "cells": [
  {
   "cell_type": "markdown",
   "id": "8d46dc9c-265f-47f2-999c-ed48818fb469",
   "metadata": {},
   "source": [
    "# Theory Questions"
   ]
  },
  {
   "cell_type": "code",
   "execution_count": 1,
   "id": "15b96219-c987-449e-ba75-2611f25ef1e1",
   "metadata": {},
   "outputs": [
    {
     "data": {
      "text/plain": [
       "'\\n1. What is the difference between interpreted and compiled languages?\\nAns\\n\\nInterpreted languages translate code line-by-line during runtime (e.g., Python).\\n\\nCompiled languages translate the entire code to machine code before execution (e.g., C++).\\n\\nInterpreted languages are slower but flexible and easier to debug.\\n\\nCompiled languages are faster but require a compilation step before running.\\n'"
      ]
     },
     "execution_count": 1,
     "metadata": {},
     "output_type": "execute_result"
    }
   ],
   "source": [
    "'''\n",
    "1. What is the difference between interpreted and compiled languages?\n",
    "Ans\n",
    "\n",
    "Interpreted languages translate code line-by-line during runtime (e.g., Python).\n",
    "\n",
    "Compiled languages translate the entire code to machine code before execution (e.g., C++).\n",
    "\n",
    "Interpreted languages are slower but flexible and easier to debug.\n",
    "\n",
    "Compiled languages are faster but require a compilation step before running.\n",
    "'''"
   ]
  },
  {
   "cell_type": "code",
   "execution_count": 2,
   "id": "a7014c41-f61a-466f-9bed-f872c3ff20e3",
   "metadata": {},
   "outputs": [
    {
     "data": {
      "text/plain": [
       "'\\n2. What is exception handling in Python?\\nAns\\nException handling in Python allows programs to deal with unexpected errors gracefully using try, except, else, and finally blocks. It prevents the program from crashing and allows fallback code execution.\\n'"
      ]
     },
     "execution_count": 2,
     "metadata": {},
     "output_type": "execute_result"
    }
   ],
   "source": [
    "'''\n",
    "2. What is exception handling in Python?\n",
    "Ans\n",
    "Exception handling in Python allows programs to deal with unexpected errors gracefully using try, except, else, and finally blocks. It prevents the program from crashing and allows fallback code execution.\n",
    "'''"
   ]
  },
  {
   "cell_type": "code",
   "execution_count": 3,
   "id": "f8b727ee-0e03-4c56-8ac6-30fd01fa202d",
   "metadata": {},
   "outputs": [
    {
     "data": {
      "text/plain": [
       "'\\n3. What is the purpose of the finally block in exception handling?\\nAns\\nThe finally block executes regardless of whether an exception occurred or not. It is typically used to release resources like files or network connections.\\n'"
      ]
     },
     "execution_count": 3,
     "metadata": {},
     "output_type": "execute_result"
    }
   ],
   "source": [
    "'''\n",
    "3. What is the purpose of the finally block in exception handling?\n",
    "Ans\n",
    "The finally block executes regardless of whether an exception occurred or not. It is typically used to release resources like files or network connections.\n",
    "'''"
   ]
  },
  {
   "cell_type": "code",
   "execution_count": 4,
   "id": "7516bc25-aa06-4b75-b666-985514d83367",
   "metadata": {},
   "outputs": [
    {
     "data": {
      "text/plain": [
       "'\\n4. What is logging in Python?\\nAns\\nLogging in Python is a way to track events that happen when software runs. The logging module is used to record debug, info, warning, error, and critical messages.\\n'"
      ]
     },
     "execution_count": 4,
     "metadata": {},
     "output_type": "execute_result"
    }
   ],
   "source": [
    "'''\n",
    "4. What is logging in Python?\n",
    "Ans\n",
    "Logging in Python is a way to track events that happen when software runs. The logging module is used to record debug, info, warning, error, and critical messages.\n",
    "'''"
   ]
  },
  {
   "cell_type": "code",
   "execution_count": 5,
   "id": "af8cad9c-a7a0-40dc-9361-d6471039f585",
   "metadata": {},
   "outputs": [
    {
     "data": {
      "text/plain": [
       "'\\n5. What is the significance of the __del__ method in Python?\\nAns\\n__del__ is a destructor method. It is called when an object is about to be destroyed, used to clean up resources (e.g., closing files or connections).\\n'"
      ]
     },
     "execution_count": 5,
     "metadata": {},
     "output_type": "execute_result"
    }
   ],
   "source": [
    "'''\n",
    "5. What is the significance of the __del__ method in Python?\n",
    "Ans\n",
    "__del__ is a destructor method. It is called when an object is about to be destroyed, used to clean up resources (e.g., closing files or connections).\n",
    "'''"
   ]
  },
  {
   "cell_type": "code",
   "execution_count": 6,
   "id": "400cf758-0979-469d-83e8-0b15042f0e78",
   "metadata": {},
   "outputs": [
    {
     "data": {
      "text/plain": [
       "'\\n6. What is the difference between import and from ... import in Python?\\nAns\\n\\nimport module: Access functions with module.function().\\n\\nfrom module import function: Access function directly with function().\\n'"
      ]
     },
     "execution_count": 6,
     "metadata": {},
     "output_type": "execute_result"
    }
   ],
   "source": [
    "'''\n",
    "6. What is the difference between import and from ... import in Python?\n",
    "Ans  import module: Access functions with module.function().\n",
    "     from module import function: Access function directly with function().\n",
    "'''"
   ]
  },
  {
   "cell_type": "code",
   "execution_count": 7,
   "id": "9290f3ec-71d6-437e-9432-0df0a5038dca",
   "metadata": {},
   "outputs": [
    {
     "data": {
      "text/plain": [
       "'\\n7. How can you handle multiple exceptions in Python?\\nAns\\nYou can handle multiple exceptions by:\\n\\nUsing multiple except blocks for different exception types.\\n\\nGrouping exceptions in a tuple:\\n\\npython\\nCopy\\nEdit\\ntry:\\n    # code\\nexcept (TypeError, ValueError) as e:\\n    print(e)\\n'"
      ]
     },
     "execution_count": 7,
     "metadata": {},
     "output_type": "execute_result"
    }
   ],
   "source": [
    "'''\n",
    "7. How can you handle multiple exceptions in Python?\n",
    "Ans\n",
    "You can handle multiple exceptions by:\n",
    "Using multiple except blocks for different exception types.\n",
    "\n",
    "Grouping exceptions in a tuple:\n",
    "try:\n",
    "    # code\n",
    "except (TypeError, ValueError) as e:\n",
    "    print(e)\n",
    "'''"
   ]
  },
  {
   "cell_type": "code",
   "execution_count": 8,
   "id": "5b954bb7-60bb-475f-9a80-c7808822d4c1",
   "metadata": {},
   "outputs": [
    {
     "data": {
      "text/plain": [
       "'\\n8. What is the purpose of the with statement when handling files in Python?\\nAns\\nThe with statement automatically handles file opening and closing, even if errors occur.\\nExample:\\n\\nwith open(\"file.txt\") as f:\\n    data = f.read()\\n\\n'"
      ]
     },
     "execution_count": 8,
     "metadata": {},
     "output_type": "execute_result"
    }
   ],
   "source": [
    "'''\n",
    "8. What is the purpose of the with statement when handling files in Python?\n",
    "Ans\n",
    "The with statement automatically handles file opening and closing, even if errors occur.\n",
    "Example:\n",
    "\n",
    "with open(\"file.txt\") as f:\n",
    "    data = f.read()\n",
    "\n",
    "'''"
   ]
  },
  {
   "cell_type": "code",
   "execution_count": 9,
   "id": "fcf365d3-4d53-4a3f-96aa-7d8709df2cdd",
   "metadata": {},
   "outputs": [
    {
     "data": {
      "text/plain": [
       "'\\n9. What is the difference between multithreading and multiprocessing?\\nAns\\nMultithreading: Multiple threads run in the same memory space.\\nMultiprocessing: Multiple processes with separate memory.\\nMultiprocessing is better for CPU-bound tasks; multithreading is good for I/O-bound tasks.\\n'"
      ]
     },
     "execution_count": 9,
     "metadata": {},
     "output_type": "execute_result"
    }
   ],
   "source": [
    "'''\n",
    "9. What is the difference between multithreading and multiprocessing?\n",
    "Ans\n",
    "Multithreading: Multiple threads run in the same memory space.\n",
    "Multiprocessing: Multiple processes with separate memory.\n",
    "Multiprocessing is better for CPU-bound tasks; multithreading is good for I/O-bound tasks.\n",
    "'''\n"
   ]
  },
  {
   "cell_type": "code",
   "execution_count": 10,
   "id": "a73c832c-9112-455c-b9b0-78f09737bd1f",
   "metadata": {},
   "outputs": [
    {
     "data": {
      "text/plain": [
       "'\\n10. What are the advantages of using logging in a program?\\nAns Tracks events during program execution\\nHelps in debugging and monitoring\\nLogs can be stored in files for analysis\\nCan be configured to show different severity levels (info, debug, etc.)\\n'"
      ]
     },
     "execution_count": 10,
     "metadata": {},
     "output_type": "execute_result"
    }
   ],
   "source": [
    "'''\n",
    "10. What are the advantages of using logging in a program?\n",
    "Ans Tracks events during program execution\n",
    "Helps in debugging and monitoring\n",
    "Logs can be stored in files for analysis\n",
    "Can be configured to show different severity levels (info, debug, etc.)\n",
    "'''\n"
   ]
  },
  {
   "cell_type": "code",
   "execution_count": 11,
   "id": "f3bba9e3-6781-4cf6-92a7-b30bff8448df",
   "metadata": {},
   "outputs": [
    {
     "data": {
      "text/plain": [
       "'\\n11. What is memory management in Python?\\nAns\\nPython uses automatic memory management via:\\n\\nReference counting\\n\\nGarbage collection\\nIt manages allocation and deallocation of memory automatically.\\n'"
      ]
     },
     "execution_count": 11,
     "metadata": {},
     "output_type": "execute_result"
    }
   ],
   "source": [
    "'''\n",
    "11. What is memory management in Python?\n",
    "Ans\n",
    "Python uses automatic memory management via:\n",
    "\n",
    "Reference counting\n",
    "\n",
    "Garbage collection\n",
    "It manages allocation and deallocation of memory automatically.\n",
    "'''"
   ]
  },
  {
   "cell_type": "code",
   "execution_count": 12,
   "id": "29c88e36-ade2-4fb5-8e5e-2172c13ca8ee",
   "metadata": {},
   "outputs": [
    {
     "data": {
      "text/plain": [
       "'\\n12. What are the basic steps involved in exception handling in Python?\\nAns\\nUse try to wrap code that may raise exceptions\\nUse except to catch specific exceptions\\nUse else for code that runs if no exceptions occur\\nUse finally for cleanup actions\\n'"
      ]
     },
     "execution_count": 12,
     "metadata": {},
     "output_type": "execute_result"
    }
   ],
   "source": [
    "'''\n",
    "12. What are the basic steps involved in exception handling in Python?\n",
    "Ans\n",
    "Use try to wrap code that may raise exceptions\n",
    "Use except to catch specific exceptions\n",
    "Use else for code that runs if no exceptions occur\n",
    "Use finally for cleanup actions\n",
    "'''"
   ]
  },
  {
   "cell_type": "code",
   "execution_count": 13,
   "id": "5d0e1332-2d56-40dc-84a4-746b14468390",
   "metadata": {},
   "outputs": [
    {
     "data": {
      "text/plain": [
       "'\\n13. Why is memory management important in Python?\\nAns\\nProper memory management:\\n\\nPrevents memory leaks\\n\\nImproves program performance\\n\\nEnsures better resource utilization\\n'"
      ]
     },
     "execution_count": 13,
     "metadata": {},
     "output_type": "execute_result"
    }
   ],
   "source": [
    "'''\n",
    "13. Why is memory management important in Python?\n",
    "Ans\n",
    "Proper memory management:\n",
    "\n",
    "Prevents memory leaks\n",
    "\n",
    "Improves program performance\n",
    "\n",
    "Ensures better resource utilization\n",
    "'''"
   ]
  },
  {
   "cell_type": "code",
   "execution_count": 14,
   "id": "661d90d1-90cf-4935-9868-420fa7733bbe",
   "metadata": {},
   "outputs": [
    {
     "data": {
      "text/plain": [
       "'\\n14. What is the role of try and except in exception handling?\\nAns\\n\\ntry block contains code that might raise an exception\\n\\nexcept block handles the exception and prevents program crash\\n'"
      ]
     },
     "execution_count": 14,
     "metadata": {},
     "output_type": "execute_result"
    }
   ],
   "source": [
    "'''\n",
    "14. What is the role of try and except in exception handling?\n",
    "Ans\n",
    "\n",
    "try block contains code that might raise an exception\n",
    "\n",
    "except block handles the exception and prevents program crash\n",
    "'''"
   ]
  },
  {
   "cell_type": "code",
   "execution_count": 15,
   "id": "9bd5e1a0-5791-4841-a8c7-3a4aa30159bb",
   "metadata": {},
   "outputs": [
    {
     "data": {
      "text/plain": [
       "\"\\n15. How does Python's garbage collection system work?\\nAns\\n\\nUses reference counting and a cyclic garbage collector\\n\\nAutomatically frees memory occupied by unreachable objects\\n\""
      ]
     },
     "execution_count": 15,
     "metadata": {},
     "output_type": "execute_result"
    }
   ],
   "source": [
    "'''\n",
    "15. How does Python's garbage collection system work?\n",
    "Ans\n",
    "\n",
    "Uses reference counting and a cyclic garbage collector\n",
    "\n",
    "Automatically frees memory occupied by unreachable objects\n",
    "'''"
   ]
  },
  {
   "cell_type": "code",
   "execution_count": 16,
   "id": "02ebe23c-003c-488b-9d84-95dd1644f8f7",
   "metadata": {},
   "outputs": [
    {
     "data": {
      "text/plain": [
       "'\\n16. What is the purpose of the else block in exception handling?\\nAns\\nelse block runs only if no exception occurs in the try block. It is used for code that should run only when try is successful.\\n'"
      ]
     },
     "execution_count": 16,
     "metadata": {},
     "output_type": "execute_result"
    }
   ],
   "source": [
    "'''\n",
    "16. What is the purpose of the else block in exception handling?\n",
    "Ans\n",
    "else block runs only if no exception occurs in the try block. It is used for code that should run only when try is successful.\n",
    "'''"
   ]
  },
  {
   "cell_type": "code",
   "execution_count": 17,
   "id": "41567cff-c697-4e2d-ab2d-fd1277e319a3",
   "metadata": {},
   "outputs": [
    {
     "data": {
      "text/plain": [
       "'\\n17. What are the common logging levels in Python?\\nAns\\n\\nDEBUG\\n\\nINFO\\n\\nWARNING\\n\\nERROR\\n\\nCRITICAL\\n'"
      ]
     },
     "execution_count": 17,
     "metadata": {},
     "output_type": "execute_result"
    }
   ],
   "source": [
    "'''\n",
    "17. What are the common logging levels in Python?\n",
    "Ans\n",
    "\n",
    "DEBUG\n",
    "\n",
    "INFO\n",
    "\n",
    "WARNING\n",
    "\n",
    "ERROR\n",
    "\n",
    "CRITICAL\n",
    "'''"
   ]
  },
  {
   "cell_type": "code",
   "execution_count": 18,
   "id": "ad8f88a6-6536-4fbc-9d76-506d76e121a3",
   "metadata": {},
   "outputs": [
    {
     "data": {
      "text/plain": [
       "'\\n18. What is the difference between os.fork() and multiprocessing in Python?\\nAns\\n\\nos.fork() is Unix-specific and directly creates child processes.\\n\\nmultiprocessing module is cross-platform and provides an object-oriented interface for parallelism.\\n'"
      ]
     },
     "execution_count": 18,
     "metadata": {},
     "output_type": "execute_result"
    }
   ],
   "source": [
    "'''\n",
    "18. What is the difference between os.fork() and multiprocessing in Python?\n",
    "Ans\n",
    "\n",
    "os.fork() is Unix-specific and directly creates child processes.\n",
    "\n",
    "multiprocessing module is cross-platform and provides an object-oriented interface for parallelism.\n",
    "'''"
   ]
  },
  {
   "cell_type": "code",
   "execution_count": 19,
   "id": "0ae32bd5-b1ba-43ef-88a0-61da402810fe",
   "metadata": {},
   "outputs": [
    {
     "data": {
      "text/plain": [
       "'\\n19. What is the importance of closing a file in Python?\\nAns\\n\\nReleases system resources\\n\\nSaves changes to the file\\n\\nPrevents file corruption and memory leaks\\n'"
      ]
     },
     "execution_count": 19,
     "metadata": {},
     "output_type": "execute_result"
    }
   ],
   "source": [
    "'''\n",
    "19. What is the importance of closing a file in Python?\n",
    "Ans\n",
    "\n",
    "Releases system resources\n",
    "\n",
    "Saves changes to the file\n",
    "\n",
    "Prevents file corruption and memory leaks\n",
    "'''"
   ]
  },
  {
   "cell_type": "code",
   "execution_count": 21,
   "id": "7d179b9c-f34a-436a-9e7c-d5bd26e92e37",
   "metadata": {},
   "outputs": [
    {
     "data": {
      "text/plain": [
       "'\\n20. What is the difference between file.read() and file.readline() in Python?\\nAns\\n\\nread() reads the entire file at once\\n\\nreadline() reads one line at a time\\n'"
      ]
     },
     "execution_count": 21,
     "metadata": {},
     "output_type": "execute_result"
    }
   ],
   "source": [
    "'''\n",
    "20. What is the difference between file.read() and file.readline() in Python?\n",
    "Ans\n",
    "\n",
    "read() reads the entire file at once\n",
    "\n",
    "readline() reads one line at a time\n",
    "'''"
   ]
  },
  {
   "cell_type": "code",
   "execution_count": 22,
   "id": "6d6c255d-9146-4d07-884a-83af17bf3054",
   "metadata": {},
   "outputs": [
    {
     "data": {
      "text/plain": [
       "'\\n21. What is the logging module in Python used for?\\nAns\\nThe logging module is used to:\\n\\nRecord messages\\n\\nTrack errors and warnings\\n\\nWrite logs to console or file for debugging and audit\\n'"
      ]
     },
     "execution_count": 22,
     "metadata": {},
     "output_type": "execute_result"
    }
   ],
   "source": [
    "'''\n",
    "21. What is the logging module in Python used for?\n",
    "Ans\n",
    "The logging module is used to:\n",
    "\n",
    "Record messages\n",
    "\n",
    "Track errors and warnings\n",
    "\n",
    "Write logs to console or file for debugging and audit\n",
    "'''"
   ]
  },
  {
   "cell_type": "code",
   "execution_count": 23,
   "id": "90a19194-a58b-455a-94b6-8bc733169518",
   "metadata": {},
   "outputs": [
    {
     "data": {
      "text/plain": [
       "'\\n22. What is the os module in Python used for in file handling?\\nAns\\nThe os module provides functions to:\\n\\nAccess the file system (create/delete files, directories)\\n\\nWork with paths, environment variables, and processes\\n'"
      ]
     },
     "execution_count": 23,
     "metadata": {},
     "output_type": "execute_result"
    }
   ],
   "source": [
    "'''\n",
    "22. What is the os module in Python used for in file handling?\n",
    "Ans\n",
    "The os module provides functions to:\n",
    "\n",
    "Access the file system (create/delete files, directories)\n",
    "\n",
    "Work with paths, environment variables, and processes\n",
    "'''"
   ]
  },
  {
   "cell_type": "code",
   "execution_count": 24,
   "id": "8641612b-3b4c-4323-a751-e051da737408",
   "metadata": {},
   "outputs": [
    {
     "data": {
      "text/plain": [
       "'\\n23. What are the challenges associated with memory management in Python?\\nAns\\n\\nManaging circular references\\n\\nHigh memory usage in long-running applications\\n\\nControlling memory for large data structures\\n'"
      ]
     },
     "execution_count": 24,
     "metadata": {},
     "output_type": "execute_result"
    }
   ],
   "source": [
    "'''\n",
    "23. What are the challenges associated with memory management in Python?\n",
    "Ans\n",
    "\n",
    "Managing circular references\n",
    "\n",
    "High memory usage in long-running applications\n",
    "\n",
    "Controlling memory for large data structures\n",
    "'''"
   ]
  },
  {
   "cell_type": "code",
   "execution_count": 25,
   "id": "b6366a73-1b91-4306-a2b9-e94a447eb410",
   "metadata": {},
   "outputs": [
    {
     "data": {
      "text/plain": [
       "'\\n24. How do you raise an exception manually in Python?\\nAns\\nUse the raise keyword:\\nraise ValueError(\"Invalid input\")\\n'"
      ]
     },
     "execution_count": 25,
     "metadata": {},
     "output_type": "execute_result"
    }
   ],
   "source": [
    "'''\n",
    "24. How do you raise an exception manually in Python?\n",
    "Ans\n",
    "Use the raise keyword:\n",
    "raise ValueError(\"Invalid input\")\n",
    "'''"
   ]
  },
  {
   "cell_type": "code",
   "execution_count": 26,
   "id": "db282f02-5fb1-4f16-aee3-8683458a49a7",
   "metadata": {},
   "outputs": [
    {
     "data": {
      "text/plain": [
       "'\\n25. Why is it important to use multithreading in certain applications?\\nAns\\nMultithreading helps:\\n\\nImprove responsiveness in I/O-heavy applications\\n\\nPerform background tasks\\n\\nUtilize concurrency without creating new processes\\n\\n'"
      ]
     },
     "execution_count": 26,
     "metadata": {},
     "output_type": "execute_result"
    }
   ],
   "source": [
    "'''\n",
    "25. Why is it important to use multithreading in certain applications?\n",
    "Ans\n",
    "Multithreading helps:\n",
    "\n",
    "Improve responsiveness in I/O-heavy applications\n",
    "\n",
    "Perform background tasks\n",
    "\n",
    "Utilize concurrency without creating new processes\n",
    "\n",
    "'''"
   ]
  },
  {
   "cell_type": "markdown",
   "id": "7db98c2b-b860-40fb-a43b-0ef53cfe70f7",
   "metadata": {},
   "source": [
    "# Practical Questions"
   ]
  },
  {
   "cell_type": "code",
   "execution_count": 28,
   "id": "88a6a665-437b-4bfb-80a6-11c458d0a72b",
   "metadata": {},
   "outputs": [],
   "source": [
    "#1. How can you open a file for writing in Python and write a string to it?\n",
    "#Ans\n",
    "with open(\"output.txt\", \"w\") as f:\n",
    "    f.write(\"Hello, World!\")"
   ]
  },
  {
   "cell_type": "code",
   "execution_count": 30,
   "id": "40cdb8b2-d410-456e-8528-55de81588700",
   "metadata": {},
   "outputs": [
    {
     "name": "stdout",
     "output_type": "stream",
     "text": [
      "hello\n",
      "this\n",
      "is\n",
      "a\n",
      "new\n",
      "text\n",
      "file\n",
      "for\n",
      "2nd\n",
      "question\n"
     ]
    }
   ],
   "source": [
    "#2. Write a Python program to read the contents of a file and print each line\n",
    "#Ans\n",
    "with open(\"input.txt\", \"r\") as f:\n",
    "    for line in f:\n",
    "        print(line.strip())"
   ]
  },
  {
   "cell_type": "code",
   "execution_count": 31,
   "id": "f5f0644c-f775-4c00-b370-73199073968c",
   "metadata": {},
   "outputs": [
    {
     "name": "stdout",
     "output_type": "stream",
     "text": [
      "File not found.\n"
     ]
    }
   ],
   "source": [
    "#3. How would you handle a case where the file doesn't exist while trying to open it for reading?\n",
    "#Ans\n",
    "try:\n",
    "    with open(\"nonexistent.txt\", \"r\") as f:\n",
    "        data = f.read()\n",
    "except FileNotFoundError:\n",
    "    print(\"File not found.\")"
   ]
  },
  {
   "cell_type": "code",
   "execution_count": 32,
   "id": "f6811781-62d6-49ce-a1c5-3ac431368a13",
   "metadata": {},
   "outputs": [],
   "source": [
    "#4. Write a Python script that reads from one file and writes its content to another file\n",
    "#Ans\n",
    "with open(\"input.txt\", \"r\") as src, open(\"destination.txt\", \"w\") as dest:\n",
    "    dest.write(src.read())"
   ]
  },
  {
   "cell_type": "code",
   "execution_count": 33,
   "id": "ee00752c-e932-4ab0-8f5c-80a9805006c1",
   "metadata": {},
   "outputs": [
    {
     "name": "stdout",
     "output_type": "stream",
     "text": [
      "Cannot divide by zero.\n"
     ]
    }
   ],
   "source": [
    "#5. How would you catch and handle division by zero error in Python?\n",
    "#Ans\n",
    "try:\n",
    "    result = 10 / 0\n",
    "except ZeroDivisionError:\n",
    "    print(\"Cannot divide by zero.\")\n",
    "    "
   ]
  },
  {
   "cell_type": "code",
   "execution_count": 35,
   "id": "2290ec7f-7c34-43bd-8221-c2d53ebabc31",
   "metadata": {},
   "outputs": [],
   "source": [
    "#6. Write a Python program that logs an error message to a log file when a division by zero exception occurs\n",
    "#Ans\n",
    "import logging\n",
    "\n",
    "logging.basicConfig(filename=\"error.log\", level=logging.ERROR)\n",
    "try:\n",
    "    x = 5 / 0\n",
    "except ZeroDivisionError as e:\n",
    "    logging.error(f\"Error occurred: {e}\")"
   ]
  },
  {
   "cell_type": "code",
   "execution_count": 39,
   "id": "0b30241b-0d9d-48d4-b4c0-84b41b41a70c",
   "metadata": {},
   "outputs": [],
   "source": [
    "#7. How do you log information at different levels (INFO, ERROR, WARNING) in Python using the logging module?\n",
    "#Ans\n",
    "import logging\n",
    "\n",
    "logging.basicConfig(level=logging.DEBUG)\n",
    "logging.info(\"This is info\")\n",
    "logging.warning(\"This is a warning\")\n",
    "logging.error(\"This is an error\")"
   ]
  },
  {
   "cell_type": "code",
   "execution_count": 40,
   "id": "15eeafaa-ac53-4c78-9127-01aa13baca9f",
   "metadata": {},
   "outputs": [
    {
     "name": "stdout",
     "output_type": "stream",
     "text": [
      "Error: File not found.\n"
     ]
    }
   ],
   "source": [
    "#8. Write a program to handle a file opening error using exception handling\n",
    "#Ans\n",
    "try:\n",
    "    f = open(\"missing.txt\", \"r\")\n",
    "except FileNotFoundError:\n",
    "    print(\"Error: File not found.\")"
   ]
  },
  {
   "cell_type": "code",
   "execution_count": 41,
   "id": "717163db-29eb-4baa-82f5-49d50950ccef",
   "metadata": {},
   "outputs": [
    {
     "name": "stdout",
     "output_type": "stream",
     "text": [
      "['hello \\n', 'this\\n', 'is \\n', 'a \\n', 'new \\n', 'text\\n', 'file\\n', 'for\\n', '2nd\\n', 'question\\n']\n"
     ]
    }
   ],
   "source": [
    "#9. How can you read a file line by line and store its content in a list in Python?\n",
    "#Ans\n",
    "with open(\"input.txt\", \"r\") as f:\n",
    "    lines = f.readlines()\n",
    "print(lines)"
   ]
  },
  {
   "cell_type": "code",
   "execution_count": 42,
   "id": "70cadcf0-c5c2-4f20-a5a5-da0c3ffc5ace",
   "metadata": {},
   "outputs": [],
   "source": [
    "#10. How can you append data to an existing file in Python?\n",
    "#Ans\n",
    "with open(\"input.txt\", \"a\") as f:\n",
    "    f.write(\"Appended text.\\n\")\n"
   ]
  },
  {
   "cell_type": "code",
   "execution_count": 43,
   "id": "04c70c94-d75f-4d2c-8296-5f5952134bc6",
   "metadata": {},
   "outputs": [
    {
     "name": "stdout",
     "output_type": "stream",
     "text": [
      "Key not found.\n"
     ]
    }
   ],
   "source": [
    "#11. Write a Python program that uses a try-except block to handle an error when attempting to access a dictionary key that doesn't exist\n",
    "#Ans\n",
    "try:\n",
    "    d = {\"a\": 1}\n",
    "    print(d[\"b\"])\n",
    "except KeyError:\n",
    "    print(\"Key not found.\")"
   ]
  },
  {
   "cell_type": "code",
   "execution_count": 45,
   "id": "125e2b3e-cd15-40bf-bf9d-1d50c8223ece",
   "metadata": {},
   "outputs": [
    {
     "name": "stdout",
     "output_type": "stream",
     "text": [
      "Value error\n"
     ]
    }
   ],
   "source": [
    "#12. Write a program that demonstrates using multiple except blocks to handle different types of exceptions\n",
    "#Ans\n",
    "try:\n",
    "    x = int(\"abc\")\n",
    "except ValueError:\n",
    "    print(\"Value error\")\n",
    "except TypeError:\n",
    "    print(\"Type error\")"
   ]
  },
  {
   "cell_type": "code",
   "execution_count": 46,
   "id": "c4f29354-0c02-41b2-a950-a62bc30bfeb9",
   "metadata": {},
   "outputs": [
    {
     "name": "stdout",
     "output_type": "stream",
     "text": [
      "File does not exist.\n"
     ]
    }
   ],
   "source": [
    "#13. How would you check if a file exists before attempting to read it in Python?\n",
    "#Ans\n",
    "import os\n",
    "\n",
    "if os.path.exists(\"check.txt\"):\n",
    "    with open(\"check.txt\", \"r\") as f:\n",
    "        print(f.read())\n",
    "else:\n",
    "    print(\"File does not exist.\")"
   ]
  },
  {
   "cell_type": "code",
   "execution_count": 1,
   "id": "8ddfa4e4-78bb-453e-ad5b-1312ab4b7b02",
   "metadata": {},
   "outputs": [],
   "source": [
    "#14. Write a program that uses the logging module to log both informational and error messages\n",
    "\n",
    "import logging\n",
    "\n",
    "logging.basicConfig(level=logging.DEBUG, filename=\"logfile.log\")\n",
    "logging.info(\"Program started\")\n",
    "try:\n",
    "    10 / 0\n",
    "except ZeroDivisionError:\n",
    "    logging.error(\"Division by zero error\")"
   ]
  },
  {
   "cell_type": "code",
   "execution_count": 4,
   "id": "8b799bae-be7b-4ac3-b23d-7c20208bf5b3",
   "metadata": {},
   "outputs": [
    {
     "name": "stdout",
     "output_type": "stream",
     "text": [
      "File is empty.\n"
     ]
    }
   ],
   "source": [
    "#15. Write a Python program that prints the content of a file and handles the case when the file is empty\n",
    "with open(\"sample.txt\", \"r\") as f:\n",
    "    content = f.read()\n",
    "    if content:\n",
    "        print(content)\n",
    "    else:\n",
    "        print(\"File is empty.\")"
   ]
  },
  {
   "cell_type": "code",
   "execution_count": 1,
   "id": "f3c45734-3665-4c1f-9297-ef7d57e855f2",
   "metadata": {},
   "outputs": [
    {
     "name": "stdout",
     "output_type": "stream",
     "text": [
      "ERROR: Could not find file C:\\Users\\admin\\AppData\\Local\\Temp\\ipykernel_15728\\1097060902.py\n"
     ]
    },
    {
     "data": {
      "text/plain": [
       "[0,\n",
       " 1,\n",
       " 2,\n",
       " 3,\n",
       " 4,\n",
       " 5,\n",
       " 6,\n",
       " 7,\n",
       " 8,\n",
       " 9,\n",
       " 10,\n",
       " 11,\n",
       " 12,\n",
       " 13,\n",
       " 14,\n",
       " 15,\n",
       " 16,\n",
       " 17,\n",
       " 18,\n",
       " 19,\n",
       " 20,\n",
       " 21,\n",
       " 22,\n",
       " 23,\n",
       " 24,\n",
       " 25,\n",
       " 26,\n",
       " 27,\n",
       " 28,\n",
       " 29,\n",
       " 30,\n",
       " 31,\n",
       " 32,\n",
       " 33,\n",
       " 34,\n",
       " 35,\n",
       " 36,\n",
       " 37,\n",
       " 38,\n",
       " 39,\n",
       " 40,\n",
       " 41,\n",
       " 42,\n",
       " 43,\n",
       " 44,\n",
       " 45,\n",
       " 46,\n",
       " 47,\n",
       " 48,\n",
       " 49,\n",
       " 50,\n",
       " 51,\n",
       " 52,\n",
       " 53,\n",
       " 54,\n",
       " 55,\n",
       " 56,\n",
       " 57,\n",
       " 58,\n",
       " 59,\n",
       " 60,\n",
       " 61,\n",
       " 62,\n",
       " 63,\n",
       " 64,\n",
       " 65,\n",
       " 66,\n",
       " 67,\n",
       " 68,\n",
       " 69,\n",
       " 70,\n",
       " 71,\n",
       " 72,\n",
       " 73,\n",
       " 74,\n",
       " 75,\n",
       " 76,\n",
       " 77,\n",
       " 78,\n",
       " 79,\n",
       " 80,\n",
       " 81,\n",
       " 82,\n",
       " 83,\n",
       " 84,\n",
       " 85,\n",
       " 86,\n",
       " 87,\n",
       " 88,\n",
       " 89,\n",
       " 90,\n",
       " 91,\n",
       " 92,\n",
       " 93,\n",
       " 94,\n",
       " 95,\n",
       " 96,\n",
       " 97,\n",
       " 98,\n",
       " 99,\n",
       " 100,\n",
       " 101,\n",
       " 102,\n",
       " 103,\n",
       " 104,\n",
       " 105,\n",
       " 106,\n",
       " 107,\n",
       " 108,\n",
       " 109,\n",
       " 110,\n",
       " 111,\n",
       " 112,\n",
       " 113,\n",
       " 114,\n",
       " 115,\n",
       " 116,\n",
       " 117,\n",
       " 118,\n",
       " 119,\n",
       " 120,\n",
       " 121,\n",
       " 122,\n",
       " 123,\n",
       " 124,\n",
       " 125,\n",
       " 126,\n",
       " 127,\n",
       " 128,\n",
       " 129,\n",
       " 130,\n",
       " 131,\n",
       " 132,\n",
       " 133,\n",
       " 134,\n",
       " 135,\n",
       " 136,\n",
       " 137,\n",
       " 138,\n",
       " 139,\n",
       " 140,\n",
       " 141,\n",
       " 142,\n",
       " 143,\n",
       " 144,\n",
       " 145,\n",
       " 146,\n",
       " 147,\n",
       " 148,\n",
       " 149,\n",
       " 150,\n",
       " 151,\n",
       " 152,\n",
       " 153,\n",
       " 154,\n",
       " 155,\n",
       " 156,\n",
       " 157,\n",
       " 158,\n",
       " 159,\n",
       " 160,\n",
       " 161,\n",
       " 162,\n",
       " 163,\n",
       " 164,\n",
       " 165,\n",
       " 166,\n",
       " 167,\n",
       " 168,\n",
       " 169,\n",
       " 170,\n",
       " 171,\n",
       " 172,\n",
       " 173,\n",
       " 174,\n",
       " 175,\n",
       " 176,\n",
       " 177,\n",
       " 178,\n",
       " 179,\n",
       " 180,\n",
       " 181,\n",
       " 182,\n",
       " 183,\n",
       " 184,\n",
       " 185,\n",
       " 186,\n",
       " 187,\n",
       " 188,\n",
       " 189,\n",
       " 190,\n",
       " 191,\n",
       " 192,\n",
       " 193,\n",
       " 194,\n",
       " 195,\n",
       " 196,\n",
       " 197,\n",
       " 198,\n",
       " 199,\n",
       " 200,\n",
       " 201,\n",
       " 202,\n",
       " 203,\n",
       " 204,\n",
       " 205,\n",
       " 206,\n",
       " 207,\n",
       " 208,\n",
       " 209,\n",
       " 210,\n",
       " 211,\n",
       " 212,\n",
       " 213,\n",
       " 214,\n",
       " 215,\n",
       " 216,\n",
       " 217,\n",
       " 218,\n",
       " 219,\n",
       " 220,\n",
       " 221,\n",
       " 222,\n",
       " 223,\n",
       " 224,\n",
       " 225,\n",
       " 226,\n",
       " 227,\n",
       " 228,\n",
       " 229,\n",
       " 230,\n",
       " 231,\n",
       " 232,\n",
       " 233,\n",
       " 234,\n",
       " 235,\n",
       " 236,\n",
       " 237,\n",
       " 238,\n",
       " 239,\n",
       " 240,\n",
       " 241,\n",
       " 242,\n",
       " 243,\n",
       " 244,\n",
       " 245,\n",
       " 246,\n",
       " 247,\n",
       " 248,\n",
       " 249,\n",
       " 250,\n",
       " 251,\n",
       " 252,\n",
       " 253,\n",
       " 254,\n",
       " 255,\n",
       " 256,\n",
       " 257,\n",
       " 258,\n",
       " 259,\n",
       " 260,\n",
       " 261,\n",
       " 262,\n",
       " 263,\n",
       " 264,\n",
       " 265,\n",
       " 266,\n",
       " 267,\n",
       " 268,\n",
       " 269,\n",
       " 270,\n",
       " 271,\n",
       " 272,\n",
       " 273,\n",
       " 274,\n",
       " 275,\n",
       " 276,\n",
       " 277,\n",
       " 278,\n",
       " 279,\n",
       " 280,\n",
       " 281,\n",
       " 282,\n",
       " 283,\n",
       " 284,\n",
       " 285,\n",
       " 286,\n",
       " 287,\n",
       " 288,\n",
       " 289,\n",
       " 290,\n",
       " 291,\n",
       " 292,\n",
       " 293,\n",
       " 294,\n",
       " 295,\n",
       " 296,\n",
       " 297,\n",
       " 298,\n",
       " 299,\n",
       " 300,\n",
       " 301,\n",
       " 302,\n",
       " 303,\n",
       " 304,\n",
       " 305,\n",
       " 306,\n",
       " 307,\n",
       " 308,\n",
       " 309,\n",
       " 310,\n",
       " 311,\n",
       " 312,\n",
       " 313,\n",
       " 314,\n",
       " 315,\n",
       " 316,\n",
       " 317,\n",
       " 318,\n",
       " 319,\n",
       " 320,\n",
       " 321,\n",
       " 322,\n",
       " 323,\n",
       " 324,\n",
       " 325,\n",
       " 326,\n",
       " 327,\n",
       " 328,\n",
       " 329,\n",
       " 330,\n",
       " 331,\n",
       " 332,\n",
       " 333,\n",
       " 334,\n",
       " 335,\n",
       " 336,\n",
       " 337,\n",
       " 338,\n",
       " 339,\n",
       " 340,\n",
       " 341,\n",
       " 342,\n",
       " 343,\n",
       " 344,\n",
       " 345,\n",
       " 346,\n",
       " 347,\n",
       " 348,\n",
       " 349,\n",
       " 350,\n",
       " 351,\n",
       " 352,\n",
       " 353,\n",
       " 354,\n",
       " 355,\n",
       " 356,\n",
       " 357,\n",
       " 358,\n",
       " 359,\n",
       " 360,\n",
       " 361,\n",
       " 362,\n",
       " 363,\n",
       " 364,\n",
       " 365,\n",
       " 366,\n",
       " 367,\n",
       " 368,\n",
       " 369,\n",
       " 370,\n",
       " 371,\n",
       " 372,\n",
       " 373,\n",
       " 374,\n",
       " 375,\n",
       " 376,\n",
       " 377,\n",
       " 378,\n",
       " 379,\n",
       " 380,\n",
       " 381,\n",
       " 382,\n",
       " 383,\n",
       " 384,\n",
       " 385,\n",
       " 386,\n",
       " 387,\n",
       " 388,\n",
       " 389,\n",
       " 390,\n",
       " 391,\n",
       " 392,\n",
       " 393,\n",
       " 394,\n",
       " 395,\n",
       " 396,\n",
       " 397,\n",
       " 398,\n",
       " 399,\n",
       " 400,\n",
       " 401,\n",
       " 402,\n",
       " 403,\n",
       " 404,\n",
       " 405,\n",
       " 406,\n",
       " 407,\n",
       " 408,\n",
       " 409,\n",
       " 410,\n",
       " 411,\n",
       " 412,\n",
       " 413,\n",
       " 414,\n",
       " 415,\n",
       " 416,\n",
       " 417,\n",
       " 418,\n",
       " 419,\n",
       " 420,\n",
       " 421,\n",
       " 422,\n",
       " 423,\n",
       " 424,\n",
       " 425,\n",
       " 426,\n",
       " 427,\n",
       " 428,\n",
       " 429,\n",
       " 430,\n",
       " 431,\n",
       " 432,\n",
       " 433,\n",
       " 434,\n",
       " 435,\n",
       " 436,\n",
       " 437,\n",
       " 438,\n",
       " 439,\n",
       " 440,\n",
       " 441,\n",
       " 442,\n",
       " 443,\n",
       " 444,\n",
       " 445,\n",
       " 446,\n",
       " 447,\n",
       " 448,\n",
       " 449,\n",
       " 450,\n",
       " 451,\n",
       " 452,\n",
       " 453,\n",
       " 454,\n",
       " 455,\n",
       " 456,\n",
       " 457,\n",
       " 458,\n",
       " 459,\n",
       " 460,\n",
       " 461,\n",
       " 462,\n",
       " 463,\n",
       " 464,\n",
       " 465,\n",
       " 466,\n",
       " 467,\n",
       " 468,\n",
       " 469,\n",
       " 470,\n",
       " 471,\n",
       " 472,\n",
       " 473,\n",
       " 474,\n",
       " 475,\n",
       " 476,\n",
       " 477,\n",
       " 478,\n",
       " 479,\n",
       " 480,\n",
       " 481,\n",
       " 482,\n",
       " 483,\n",
       " 484,\n",
       " 485,\n",
       " 486,\n",
       " 487,\n",
       " 488,\n",
       " 489,\n",
       " 490,\n",
       " 491,\n",
       " 492,\n",
       " 493,\n",
       " 494,\n",
       " 495,\n",
       " 496,\n",
       " 497,\n",
       " 498,\n",
       " 499,\n",
       " 500,\n",
       " 501,\n",
       " 502,\n",
       " 503,\n",
       " 504,\n",
       " 505,\n",
       " 506,\n",
       " 507,\n",
       " 508,\n",
       " 509,\n",
       " 510,\n",
       " 511,\n",
       " 512,\n",
       " 513,\n",
       " 514,\n",
       " 515,\n",
       " 516,\n",
       " 517,\n",
       " 518,\n",
       " 519,\n",
       " 520,\n",
       " 521,\n",
       " 522,\n",
       " 523,\n",
       " 524,\n",
       " 525,\n",
       " 526,\n",
       " 527,\n",
       " 528,\n",
       " 529,\n",
       " 530,\n",
       " 531,\n",
       " 532,\n",
       " 533,\n",
       " 534,\n",
       " 535,\n",
       " 536,\n",
       " 537,\n",
       " 538,\n",
       " 539,\n",
       " 540,\n",
       " 541,\n",
       " 542,\n",
       " 543,\n",
       " 544,\n",
       " 545,\n",
       " 546,\n",
       " 547,\n",
       " 548,\n",
       " 549,\n",
       " 550,\n",
       " 551,\n",
       " 552,\n",
       " 553,\n",
       " 554,\n",
       " 555,\n",
       " 556,\n",
       " 557,\n",
       " 558,\n",
       " 559,\n",
       " 560,\n",
       " 561,\n",
       " 562,\n",
       " 563,\n",
       " 564,\n",
       " 565,\n",
       " 566,\n",
       " 567,\n",
       " 568,\n",
       " 569,\n",
       " 570,\n",
       " 571,\n",
       " 572,\n",
       " 573,\n",
       " 574,\n",
       " 575,\n",
       " 576,\n",
       " 577,\n",
       " 578,\n",
       " 579,\n",
       " 580,\n",
       " 581,\n",
       " 582,\n",
       " 583,\n",
       " 584,\n",
       " 585,\n",
       " 586,\n",
       " 587,\n",
       " 588,\n",
       " 589,\n",
       " 590,\n",
       " 591,\n",
       " 592,\n",
       " 593,\n",
       " 594,\n",
       " 595,\n",
       " 596,\n",
       " 597,\n",
       " 598,\n",
       " 599,\n",
       " 600,\n",
       " 601,\n",
       " 602,\n",
       " 603,\n",
       " 604,\n",
       " 605,\n",
       " 606,\n",
       " 607,\n",
       " 608,\n",
       " 609,\n",
       " 610,\n",
       " 611,\n",
       " 612,\n",
       " 613,\n",
       " 614,\n",
       " 615,\n",
       " 616,\n",
       " 617,\n",
       " 618,\n",
       " 619,\n",
       " 620,\n",
       " 621,\n",
       " 622,\n",
       " 623,\n",
       " 624,\n",
       " 625,\n",
       " 626,\n",
       " 627,\n",
       " 628,\n",
       " 629,\n",
       " 630,\n",
       " 631,\n",
       " 632,\n",
       " 633,\n",
       " 634,\n",
       " 635,\n",
       " 636,\n",
       " 637,\n",
       " 638,\n",
       " 639,\n",
       " 640,\n",
       " 641,\n",
       " 642,\n",
       " 643,\n",
       " 644,\n",
       " 645,\n",
       " 646,\n",
       " 647,\n",
       " 648,\n",
       " 649,\n",
       " 650,\n",
       " 651,\n",
       " 652,\n",
       " 653,\n",
       " 654,\n",
       " 655,\n",
       " 656,\n",
       " 657,\n",
       " 658,\n",
       " 659,\n",
       " 660,\n",
       " 661,\n",
       " 662,\n",
       " 663,\n",
       " 664,\n",
       " 665,\n",
       " 666,\n",
       " 667,\n",
       " 668,\n",
       " 669,\n",
       " 670,\n",
       " 671,\n",
       " 672,\n",
       " 673,\n",
       " 674,\n",
       " 675,\n",
       " 676,\n",
       " 677,\n",
       " 678,\n",
       " 679,\n",
       " 680,\n",
       " 681,\n",
       " 682,\n",
       " 683,\n",
       " 684,\n",
       " 685,\n",
       " 686,\n",
       " 687,\n",
       " 688,\n",
       " 689,\n",
       " 690,\n",
       " 691,\n",
       " 692,\n",
       " 693,\n",
       " 694,\n",
       " 695,\n",
       " 696,\n",
       " 697,\n",
       " 698,\n",
       " 699,\n",
       " 700,\n",
       " 701,\n",
       " 702,\n",
       " 703,\n",
       " 704,\n",
       " 705,\n",
       " 706,\n",
       " 707,\n",
       " 708,\n",
       " 709,\n",
       " 710,\n",
       " 711,\n",
       " 712,\n",
       " 713,\n",
       " 714,\n",
       " 715,\n",
       " 716,\n",
       " 717,\n",
       " 718,\n",
       " 719,\n",
       " 720,\n",
       " 721,\n",
       " 722,\n",
       " 723,\n",
       " 724,\n",
       " 725,\n",
       " 726,\n",
       " 727,\n",
       " 728,\n",
       " 729,\n",
       " 730,\n",
       " 731,\n",
       " 732,\n",
       " 733,\n",
       " 734,\n",
       " 735,\n",
       " 736,\n",
       " 737,\n",
       " 738,\n",
       " 739,\n",
       " 740,\n",
       " 741,\n",
       " 742,\n",
       " 743,\n",
       " 744,\n",
       " 745,\n",
       " 746,\n",
       " 747,\n",
       " 748,\n",
       " 749,\n",
       " 750,\n",
       " 751,\n",
       " 752,\n",
       " 753,\n",
       " 754,\n",
       " 755,\n",
       " 756,\n",
       " 757,\n",
       " 758,\n",
       " 759,\n",
       " 760,\n",
       " 761,\n",
       " 762,\n",
       " 763,\n",
       " 764,\n",
       " 765,\n",
       " 766,\n",
       " 767,\n",
       " 768,\n",
       " 769,\n",
       " 770,\n",
       " 771,\n",
       " 772,\n",
       " 773,\n",
       " 774,\n",
       " 775,\n",
       " 776,\n",
       " 777,\n",
       " 778,\n",
       " 779,\n",
       " 780,\n",
       " 781,\n",
       " 782,\n",
       " 783,\n",
       " 784,\n",
       " 785,\n",
       " 786,\n",
       " 787,\n",
       " 788,\n",
       " 789,\n",
       " 790,\n",
       " 791,\n",
       " 792,\n",
       " 793,\n",
       " 794,\n",
       " 795,\n",
       " 796,\n",
       " 797,\n",
       " 798,\n",
       " 799,\n",
       " 800,\n",
       " 801,\n",
       " 802,\n",
       " 803,\n",
       " 804,\n",
       " 805,\n",
       " 806,\n",
       " 807,\n",
       " 808,\n",
       " 809,\n",
       " 810,\n",
       " 811,\n",
       " 812,\n",
       " 813,\n",
       " 814,\n",
       " 815,\n",
       " 816,\n",
       " 817,\n",
       " 818,\n",
       " 819,\n",
       " 820,\n",
       " 821,\n",
       " 822,\n",
       " 823,\n",
       " 824,\n",
       " 825,\n",
       " 826,\n",
       " 827,\n",
       " 828,\n",
       " 829,\n",
       " 830,\n",
       " 831,\n",
       " 832,\n",
       " 833,\n",
       " 834,\n",
       " 835,\n",
       " 836,\n",
       " 837,\n",
       " 838,\n",
       " 839,\n",
       " 840,\n",
       " 841,\n",
       " 842,\n",
       " 843,\n",
       " 844,\n",
       " 845,\n",
       " 846,\n",
       " 847,\n",
       " 848,\n",
       " 849,\n",
       " 850,\n",
       " 851,\n",
       " 852,\n",
       " 853,\n",
       " 854,\n",
       " 855,\n",
       " 856,\n",
       " 857,\n",
       " 858,\n",
       " 859,\n",
       " 860,\n",
       " 861,\n",
       " 862,\n",
       " 863,\n",
       " 864,\n",
       " 865,\n",
       " 866,\n",
       " 867,\n",
       " 868,\n",
       " 869,\n",
       " 870,\n",
       " 871,\n",
       " 872,\n",
       " 873,\n",
       " 874,\n",
       " 875,\n",
       " 876,\n",
       " 877,\n",
       " 878,\n",
       " 879,\n",
       " 880,\n",
       " 881,\n",
       " 882,\n",
       " 883,\n",
       " 884,\n",
       " 885,\n",
       " 886,\n",
       " 887,\n",
       " 888,\n",
       " 889,\n",
       " 890,\n",
       " 891,\n",
       " 892,\n",
       " 893,\n",
       " 894,\n",
       " 895,\n",
       " 896,\n",
       " 897,\n",
       " 898,\n",
       " 899,\n",
       " 900,\n",
       " 901,\n",
       " 902,\n",
       " 903,\n",
       " 904,\n",
       " 905,\n",
       " 906,\n",
       " 907,\n",
       " 908,\n",
       " 909,\n",
       " 910,\n",
       " 911,\n",
       " 912,\n",
       " 913,\n",
       " 914,\n",
       " 915,\n",
       " 916,\n",
       " 917,\n",
       " 918,\n",
       " 919,\n",
       " 920,\n",
       " 921,\n",
       " 922,\n",
       " 923,\n",
       " 924,\n",
       " 925,\n",
       " 926,\n",
       " 927,\n",
       " 928,\n",
       " 929,\n",
       " 930,\n",
       " 931,\n",
       " 932,\n",
       " 933,\n",
       " 934,\n",
       " 935,\n",
       " 936,\n",
       " 937,\n",
       " 938,\n",
       " 939,\n",
       " 940,\n",
       " 941,\n",
       " 942,\n",
       " 943,\n",
       " 944,\n",
       " 945,\n",
       " 946,\n",
       " 947,\n",
       " 948,\n",
       " 949,\n",
       " 950,\n",
       " 951,\n",
       " 952,\n",
       " 953,\n",
       " 954,\n",
       " 955,\n",
       " 956,\n",
       " 957,\n",
       " 958,\n",
       " 959,\n",
       " 960,\n",
       " 961,\n",
       " 962,\n",
       " 963,\n",
       " 964,\n",
       " 965,\n",
       " 966,\n",
       " 967,\n",
       " 968,\n",
       " 969,\n",
       " 970,\n",
       " 971,\n",
       " 972,\n",
       " 973,\n",
       " 974,\n",
       " 975,\n",
       " 976,\n",
       " 977,\n",
       " 978,\n",
       " 979,\n",
       " 980,\n",
       " 981,\n",
       " 982,\n",
       " 983,\n",
       " 984,\n",
       " 985,\n",
       " 986,\n",
       " 987,\n",
       " 988,\n",
       " 989,\n",
       " 990,\n",
       " 991,\n",
       " 992,\n",
       " 993,\n",
       " 994,\n",
       " 995,\n",
       " 996,\n",
       " 997,\n",
       " 998,\n",
       " 999,\n",
       " ...]"
      ]
     },
     "execution_count": 1,
     "metadata": {},
     "output_type": "execute_result"
    }
   ],
   "source": [
    "#16. Demonstrate how to use memory profiling to check the memory usage of a small program\n",
    "\n",
    "from memory_profiler import profile\n",
    "\n",
    "@profile\n",
    "def test():\n",
    "    a = [i for i in range(10000)]\n",
    "    return a\n",
    "\n",
    "test()"
   ]
  },
  {
   "cell_type": "code",
   "execution_count": 9,
   "id": "d02b9b7f-0196-4bee-a7d6-3acb589024da",
   "metadata": {},
   "outputs": [],
   "source": [
    "#17. Write a Python program to create and write a list of numbers to a file, one number per line\n",
    "numbers = [1, 2, 3, 4, 5]\n",
    "with open(\"numbers.txt\", \"w\") as f:\n",
    "    for num in numbers:\n",
    "        f.write(f\"{num}\\n\")"
   ]
  },
  {
   "cell_type": "code",
   "execution_count": 12,
   "id": "73bb4832-ca67-45e8-ac3e-642d278316c8",
   "metadata": {},
   "outputs": [],
   "source": [
    "#18. How would you implement a basic logging setup that logs to a file with rotation after 1MB?\n",
    "\n",
    "import logging\n",
    "from logging.handlers import RotatingFileHandler\n",
    "\n",
    "handler = RotatingFileHandler(\"app.log\", maxBytes=1048576, backupCount=3)\n",
    "logging.basicConfig(handlers=[handler], level=logging.INFO)\n",
    "logging.info(\"Rotating log test.\")"
   ]
  },
  {
   "cell_type": "code",
   "execution_count": 13,
   "id": "decc321b-f448-4297-9cb1-91bac10ca5a7",
   "metadata": {},
   "outputs": [
    {
     "name": "stdout",
     "output_type": "stream",
     "text": [
      "Index out of range.\n"
     ]
    }
   ],
   "source": [
    "#19. Write a program that handles both IndexError and KeyError using a try-except block\n",
    "\n",
    "try:\n",
    "    lst = [1, 2, 3]\n",
    "    print(lst[5])\n",
    "    d = {\"a\": 1}\n",
    "    print(d[\"b\"])\n",
    "except IndexError:\n",
    "    print(\"Index out of range.\")\n",
    "except KeyError:\n",
    "    print(\"Key not found.\")"
   ]
  },
  {
   "cell_type": "code",
   "execution_count": 15,
   "id": "1dc56e68-e3a2-4d0d-87df-5757d31d6c9c",
   "metadata": {},
   "outputs": [
    {
     "name": "stdout",
     "output_type": "stream",
     "text": [
      "hello \n",
      "this\n",
      "is \n",
      "a \n",
      "new \n",
      "text\n",
      "file\n",
      "for\n",
      "2nd\n",
      "question\n",
      "Appended text.\n",
      "\n"
     ]
    }
   ],
   "source": [
    "#20. How would you open a file and read its contents using a context manager in Python?\n",
    "\n",
    "with open(\"input.txt\", \"r\") as f:\n",
    "    data = f.read()\n",
    "    print(data)"
   ]
  },
  {
   "cell_type": "code",
   "execution_count": 17,
   "id": "4c2bc047-4837-4ab2-bbff-ceaedfc86135",
   "metadata": {},
   "outputs": [
    {
     "name": "stdout",
     "output_type": "stream",
     "text": [
      "'python' occurred 0 times.\n"
     ]
    }
   ],
   "source": [
    "#21. Write a Python program that reads a file and prints the number of occurrences of a specific word\n",
    "word = \"python\"\n",
    "count = 0\n",
    "with open(\"input.txt\", \"r\") as f:\n",
    "    for line in f:\n",
    "        count += line.lower().count(word)\n",
    "print(f\"'{word}' occurred {count} times.\")"
   ]
  },
  {
   "cell_type": "code",
   "execution_count": 21,
   "id": "d3e271d4-f944-4afc-ad76-0d83e6e8bf0e",
   "metadata": {},
   "outputs": [
    {
     "name": "stdout",
     "output_type": "stream",
     "text": [
      "hello \n",
      "this\n",
      "is \n",
      "a \n",
      "new \n",
      "text\n",
      "file\n",
      "for\n",
      "2nd\n",
      "question\n",
      "Appended text.\n",
      "\n"
     ]
    }
   ],
   "source": [
    "#22. How can you check if a file is empty before attempting to read its contents?\n",
    "import os\n",
    "\n",
    "if os.stat(\"input.txt\").st_size == 0:\n",
    "    print(\"File is empty.\")\n",
    "else:\n",
    "    with open(\"input.txt\") as f:\n",
    "        print(f.read())\n",
    "        "
   ]
  },
  {
   "cell_type": "code",
   "execution_count": 22,
   "id": "fb94c252-8a5e-4377-9a54-c70748ce4bfe",
   "metadata": {},
   "outputs": [],
   "source": [
    "#23. Write a Python program that writes to a log file when an error occurs during file handling\n",
    "import logging\n",
    "\n",
    "logging.basicConfig(filename=\"file_error.log\", level=logging.ERROR)\n",
    "\n",
    "try:\n",
    "    with open(\"nonexistent.txt\", \"r\") as f:\n",
    "        content = f.read()\n",
    "except Exception as e:\n",
    "    logging.error(f\"File handling error: {e}\")"
   ]
  },
  {
   "cell_type": "code",
   "execution_count": null,
   "id": "d161af82-4a17-47f7-b3f1-e14a6b8844bd",
   "metadata": {},
   "outputs": [],
   "source": []
  }
 ],
 "metadata": {
  "kernelspec": {
   "display_name": "Python 3 (ipykernel)",
   "language": "python",
   "name": "python3"
  },
  "language_info": {
   "codemirror_mode": {
    "name": "ipython",
    "version": 3
   },
   "file_extension": ".py",
   "mimetype": "text/x-python",
   "name": "python",
   "nbconvert_exporter": "python",
   "pygments_lexer": "ipython3",
   "version": "3.12.7"
  }
 },
 "nbformat": 4,
 "nbformat_minor": 5
}
