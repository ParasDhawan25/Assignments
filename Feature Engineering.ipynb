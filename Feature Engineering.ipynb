{
 "cells": [
  {
   "cell_type": "code",
   "execution_count": 28,
   "id": "17810bd2-21e9-4e84-a032-0f4eb3ee3d13",
   "metadata": {},
   "outputs": [],
   "source": [
    "#1. What is a parameter?"
   ]
  },
  {
   "cell_type": "code",
   "execution_count": 29,
   "id": "c01340c7-467c-4956-ba3c-4f5006571e1c",
   "metadata": {},
   "outputs": [],
   "source": [
    "#Ans   In Machine Learning, a parameter is a variable that the model learns from the training data.\n",
    "#      Example: In linear regression y = m*x + c, the slope m and intercept c are parameters."
   ]
  },
  {
   "cell_type": "code",
   "execution_count": 30,
   "id": "c2de68ba-9eff-4ff4-a765-401c7eb289f8",
   "metadata": {},
   "outputs": [],
   "source": [
    "#2  What is correlation?  What does negative correlation mean?"
   ]
  },
  {
   "cell_type": "code",
   "execution_count": 31,
   "id": "684a4998-bddf-41ef-9cb0-dca5bed349a3",
   "metadata": {},
   "outputs": [],
   "source": [
    "#Ans   Correlation is a statistical measure that shows the strength and direction of a relationship between two variables.\n",
    "#      Ranges from -1 to +1.\n",
    "#      Negative correlation means that as one variable increases, the other decreases.\n",
    "#      Example: Speed of a car vs. time taken to reach destination (higher speed → less time)."
   ]
  },
  {
   "cell_type": "code",
   "execution_count": 32,
   "id": "356ce572-d085-4a40-b0cc-3bf860280111",
   "metadata": {},
   "outputs": [],
   "source": [
    "#3    Define Machine Learning. What are the main components in Machine Learning?"
   ]
  },
  {
   "cell_type": "code",
   "execution_count": 33,
   "id": "fc3935b6-75ea-4ee7-9dfd-5b0b7deabfcf",
   "metadata": {},
   "outputs": [],
   "source": [
    "#Ans  Machine Learning is a subset of AI where systems learn from data without being explicitly programmed.\n",
    "     #Main components:\n",
    "     #Data – The raw information used for learning.\n",
    "     #Model – The algorithm that makes predictions.\n",
    "     #Loss function – Measures how wrong the predictions are. \n",
    "     #Optimizer – Improves model parameters to reduce loss."
   ]
  },
  {
   "cell_type": "code",
   "execution_count": 34,
   "id": "3784015e-0881-493e-8a7e-3aa2ce700676",
   "metadata": {},
   "outputs": [],
   "source": [
    "#4   How does loss value help in determining whether the model is good or not?"
   ]
  },
  {
   "cell_type": "code",
   "execution_count": 35,
   "id": "5035b487-240e-4cf1-a76b-fdb25caa6c99",
   "metadata": {},
   "outputs": [],
   "source": [
    "#Ans   Loss value tells us how far the model’s predictions are from the actual values.\n",
    "\n",
    "       #Low loss → Model is performing well.\n",
    "       #High loss → Model predictions are poor"
   ]
  },
  {
   "cell_type": "code",
   "execution_count": 36,
   "id": "a69085d9-37bb-4935-a5a3-b7d4cbefbd32",
   "metadata": {},
   "outputs": [],
   "source": [
    "#5 . What are continuous and categorical variables?  "
   ]
  },
  {
   "cell_type": "code",
   "execution_count": 37,
   "id": "88d1c380-9294-4bb4-933d-1252329269cb",
   "metadata": {},
   "outputs": [],
   "source": [
    "#Ans  Continuous: Numerical values with infinite possibilities within a range (e.g., height, weight).\n",
    "      #Categorical: Values that represent categories or groups (e.g., gender, color)."
   ]
  },
  {
   "cell_type": "code",
   "execution_count": 38,
   "id": "39b8abfd-80da-44bb-a2db-61ca8b15bbe6",
   "metadata": {},
   "outputs": [],
   "source": [
    "#6   How do we handle categorical variables in Machine Learning? What are the common techniques?"
   ]
  },
  {
   "cell_type": "code",
   "execution_count": 39,
   "id": "2b4a03d8-3241-4a22-bbc3-e7f3e2f7c116",
   "metadata": {},
   "outputs": [],
   "source": [
    "#Ans   We convert categories into numerical form:\n",
    "       #Label Encoding – Assigns an integer to each category.\n",
    "       #One-Hot Encoding – Creates binary columns for each category."
   ]
  },
  {
   "cell_type": "code",
   "execution_count": 40,
   "id": "b5bc277b-7ea0-49f0-8933-fd0015d98e41",
   "metadata": {},
   "outputs": [],
   "source": [
    "#7. What do you mean by training and testing a dataset?"
   ]
  },
  {
   "cell_type": "code",
   "execution_count": 41,
   "id": "93931c3f-08da-4d84-9e0a-ba0b48d69702",
   "metadata": {},
   "outputs": [],
   "source": [
    "#Ans   Training dataset: Used to train the model.\n",
    "#      Testing dataset: Used to evaluate the model’s performance on unseen data."
   ]
  },
  {
   "cell_type": "code",
   "execution_count": 42,
   "id": "20c6356b-2257-4ee3-ad09-fd4aa50f17a4",
   "metadata": {},
   "outputs": [],
   "source": [
    "#8. What is sklearn.preprocessing?"
   ]
  },
  {
   "cell_type": "code",
   "execution_count": 43,
   "id": "c94403c0-fceb-43c7-81c0-82178aba8e99",
   "metadata": {},
   "outputs": [],
   "source": [
    "#Ans   A Scikit-learn module containing functions for scaling, normalization, encoding, and transforming data before training models."
   ]
  },
  {
   "cell_type": "code",
   "execution_count": 44,
   "id": "e1ca3a04-8030-47bb-9ba5-8f631b64ecc9",
   "metadata": {},
   "outputs": [],
   "source": [
    "#9. What is a Test set?"
   ]
  },
  {
   "cell_type": "code",
   "execution_count": 45,
   "id": "c40430f1-52ae-4962-b377-790ae6601345",
   "metadata": {},
   "outputs": [],
   "source": [
    "#Ans   The portion of data not used during training but used for testing the model’s generalization ability."
   ]
  },
  {
   "cell_type": "code",
   "execution_count": 46,
   "id": "625567ee-c5bd-4096-ab75-363a60447a90",
   "metadata": {},
   "outputs": [],
   "source": [
    "#10  Why do we have to perform EDA before fitting a model to the data?"
   ]
  },
  {
   "cell_type": "code",
   "execution_count": 47,
   "id": "941c573a-da50-4ede-8e32-07604eba89f2",
   "metadata": {},
   "outputs": [],
   "source": [
    "#Ans EDA helps to:\n",
    "#    Understand the data distribution.\n",
    "#    Detect missing values and outliers.\n",
    "#    Identify relationships between variables.\n",
    "#    Choose correct preprocessing techniques."
   ]
  },
  {
   "cell_type": "code",
   "execution_count": 49,
   "id": "5d8f78ff-9124-4964-ad06-be9b2927a3fc",
   "metadata": {},
   "outputs": [],
   "source": [
    "#12  What is correlation? "
   ]
  },
  {
   "cell_type": "code",
   "execution_count": null,
   "id": "7a222747-114e-4603-a137-0ce522fd8e34",
   "metadata": {},
   "outputs": [],
   "source": [
    "#Ans   It measures the relationship between two variables."
   ]
  },
  {
   "cell_type": "code",
   "execution_count": 50,
   "id": "bcf00a25-89d0-4cce-b59b-f0c0fa109679",
   "metadata": {},
   "outputs": [],
   "source": [
    "#13  What does negative correlation mean?"
   ]
  },
  {
   "cell_type": "code",
   "execution_count": 51,
   "id": "eba34839-01f4-4ce7-8204-735b658d832c",
   "metadata": {},
   "outputs": [],
   "source": [
    "#Ans As one variable increases, the other decreases."
   ]
  },
  {
   "cell_type": "code",
   "execution_count": 52,
   "id": "15df48cd-f3a3-4e31-b88b-5b4c8dc329a0",
   "metadata": {},
   "outputs": [],
   "source": [
    "#14  How can you find correlation between variables in Python?"
   ]
  },
  {
   "cell_type": "code",
   "execution_count": 53,
   "id": "0adf948b-4eba-47d1-9562-34b81dbad132",
   "metadata": {},
   "outputs": [],
   "source": [
    "#Ans  import pandas as pd\n",
    "#     df.corr()  # Pearson correlation by default\n"
   ]
  },
  {
   "cell_type": "code",
   "execution_count": 54,
   "id": "3ef34789-845e-483a-be7a-bfbaf05315e2",
   "metadata": {},
   "outputs": [],
   "source": [
    "#15  What is causation? Explain difference between correlation and causation with an example"
   ]
  },
  {
   "cell_type": "code",
   "execution_count": 55,
   "id": "82f1a76a-7360-4a38-86e7-77cfdc7739f6",
   "metadata": {},
   "outputs": [],
   "source": [
    "#Ans Causation: One variable directly affects the other.\n",
    "#    Correlation: Variables move together but may not have a cause-effect relationship.\n",
    "#    Example: Ice cream sales and drowning cases are correlated (both increase in summer) but ice cream doesn’t cause drowning."
   ]
  },
  {
   "cell_type": "code",
   "execution_count": 56,
   "id": "8865d505-8f2f-46f1-bc92-d640056cccd6",
   "metadata": {},
   "outputs": [],
   "source": [
    "#16 What is an Optimizer? What are different types of optimizers? Explain each with an example.\n"
   ]
  },
  {
   "cell_type": "code",
   "execution_count": 57,
   "id": "dfd3615d-c0eb-423d-adf6-7664f69e195a",
   "metadata": {},
   "outputs": [],
   "source": [
    "#Ans  An optimizer updates model parameters to minimize the loss.\n",
    "#     Types:\n",
    "#     Gradient Descent – Adjusts parameters based on slope.\n",
    "#     SGD (Stochastic Gradient Descent) – Updates using one sample at a time.\n",
    "#     Adam – Combines momentum and adaptive learning rate.\n",
    "#     RMSprop – Uses moving averages of squared gradients."
   ]
  },
  {
   "cell_type": "code",
   "execution_count": 58,
   "id": "2b7024e8-839a-45f8-a253-e403dcf141c6",
   "metadata": {},
   "outputs": [],
   "source": [
    "#17 What is sklearn.linear_model ?"
   ]
  },
  {
   "cell_type": "code",
   "execution_count": 59,
   "id": "2df6f446-ef7e-455c-8c04-4388b302937f",
   "metadata": {},
   "outputs": [],
   "source": [
    "#Ans A module in Scikit-learn containing linear models like LinearRegression, LogisticRegression, Ridge, etc."
   ]
  },
  {
   "cell_type": "code",
   "execution_count": 60,
   "id": "211cd449-2688-44c0-8dc1-e2e9287e13bd",
   "metadata": {},
   "outputs": [],
   "source": [
    "#18  What does model.fit() do? What arguments must be given?"
   ]
  },
  {
   "cell_type": "code",
   "execution_count": 61,
   "id": "5c6dde6c-6f46-4816-8e09-a88597c64311",
   "metadata": {},
   "outputs": [],
   "source": [
    "#Ans Fits (trains) the model using training data.\n",
    "#     Required: X_train, y_train\n",
    "#     Example: model.fit(X_train, y_train)"
   ]
  },
  {
   "cell_type": "code",
   "execution_count": 62,
   "id": "b9a1fdb0-852d-4595-9579-8aa4343c4224",
   "metadata": {},
   "outputs": [],
   "source": [
    "#19  What does model.predict() do? What arguments must be given?"
   ]
  },
  {
   "cell_type": "code",
   "execution_count": 63,
   "id": "113349d5-5435-4dcc-a2e0-51bafee79fee",
   "metadata": {},
   "outputs": [],
   "source": [
    "#Ans  Uses the trained model to make predictions.\n",
    "\n",
    "#Required: X_test\n",
    "#Example: model.predict(X_test)"
   ]
  },
  {
   "cell_type": "code",
   "execution_count": 64,
   "id": "4d687cc8-9b2e-482c-94fe-10e9852cb955",
   "metadata": {},
   "outputs": [],
   "source": [
    "#20  What are continuous and categorical variables?"
   ]
  },
  {
   "cell_type": "code",
   "execution_count": 65,
   "id": "1291fb01-9b29-460a-860f-40e773f16090",
   "metadata": {},
   "outputs": [],
   "source": [
    "#Ans  Continuous = numeric, Categorical = categories."
   ]
  },
  {
   "cell_type": "code",
   "execution_count": 66,
   "id": "5b0aeffc-477f-4051-a07f-657811235e23",
   "metadata": {},
   "outputs": [],
   "source": [
    "#21  What is feature scaling? How does it help in Machine Learning?"
   ]
  },
  {
   "cell_type": "code",
   "execution_count": 67,
   "id": "e357493f-f162-46ad-b8b1-f514915b841d",
   "metadata": {},
   "outputs": [],
   "source": [
    "#Ans  Feature scaling transforms data so all features are in a similar range.\n",
    "#     Helps algorithms converge faster and prevents features with large values from dominating."
   ]
  },
  {
   "cell_type": "code",
   "execution_count": 68,
   "id": "096d2a76-a897-4759-a3e4-c0cf1a67c2eb",
   "metadata": {},
   "outputs": [],
   "source": [
    "#22  How do we perform scaling in Python?"
   ]
  },
  {
   "cell_type": "code",
   "execution_count": 69,
   "id": "0c221492-8751-4e23-bc0d-1f2f2e962738",
   "metadata": {},
   "outputs": [],
   "source": [
    "#Ans  from sklearn.preprocessing import StandardScaler\n",
    "#     scaler = StandardScaler()\n",
    "#     X_scaled = scaler.fit_transform(X)"
   ]
  },
  {
   "cell_type": "code",
   "execution_count": 70,
   "id": "04e26c45-0bfd-47a4-be2c-410913579adf",
   "metadata": {},
   "outputs": [],
   "source": [
    "#23   What is sklearn.preprocessing?"
   ]
  },
  {
   "cell_type": "code",
   "execution_count": 71,
   "id": "a270d230-4ece-4d6d-92a1-7f1081bf86b4",
   "metadata": {},
   "outputs": [],
   "source": [
    "#Ans  Module for data preprocessing (scaling, encoding, etc.)."
   ]
  },
  {
   "cell_type": "code",
   "execution_count": 72,
   "id": "5ab9cdf8-7e24-4b8a-ba75-45edeaa22224",
   "metadata": {},
   "outputs": [],
   "source": [
    "#24  How do we split data for model fitting (training and testing) in Python?"
   ]
  },
  {
   "cell_type": "code",
   "execution_count": 73,
   "id": "98445fa1-69fb-4db9-8086-6bf5ed644d71",
   "metadata": {},
   "outputs": [],
   "source": [
    "#Ans  Using train_test_split from sklearn.model_selection:\n",
    "\n",
    "#     from sklearn.model_selection import train_test_split\n",
    "#     X_train, X_test, y_train, y_test = train_test_split(X, y, test_size=0.2, random_state=42)\n"
   ]
  },
  {
   "cell_type": "code",
   "execution_count": 74,
   "id": "ac7b94a0-7bbb-45cf-9038-2c28a9190b29",
   "metadata": {},
   "outputs": [],
   "source": [
    "#25  Explain data encoding?"
   ]
  },
  {
   "cell_type": "code",
   "execution_count": 75,
   "id": "6f1c6053-1996-418f-865f-e6fa90592a6a",
   "metadata": {},
   "outputs": [],
   "source": [
    "#Ans  Data encoding is converting categorical data into numerical format so ML algorithms can process it.\n",
    "#     Examples: Label Encoding, One-Hot Encoding."
   ]
  },
  {
   "cell_type": "code",
   "execution_count": null,
   "id": "d29e42a6-6c37-4aea-8667-d23ca7102f03",
   "metadata": {},
   "outputs": [],
   "source": []
  }
 ],
 "metadata": {
  "kernelspec": {
   "display_name": "Python 3 (ipykernel)",
   "language": "python",
   "name": "python3"
  },
  "language_info": {
   "codemirror_mode": {
    "name": "ipython",
    "version": 3
   },
   "file_extension": ".py",
   "mimetype": "text/x-python",
   "name": "python",
   "nbconvert_exporter": "python",
   "pygments_lexer": "ipython3",
   "version": "3.12.7"
  }
 },
 "nbformat": 4,
 "nbformat_minor": 5
}
