{
 "cells": [
  {
   "cell_type": "markdown",
   "id": "016181b5-4125-4860-bab8-fc9344293b65",
   "metadata": {},
   "source": [
    "# Theory Questions"
   ]
  },
  {
   "cell_type": "code",
   "execution_count": null,
   "id": "f174a4ce-704c-4f4b-8ccf-24c230ac2168",
   "metadata": {},
   "outputs": [],
   "source": [
    "'''\n",
    "1.What is Object-Oriented Programming (OOP)?\n",
    "Ans. Object-Oriented Programming (OOP) is a programming paradigm based on the concept of \"objects\", which can contain data and code:\n",
    "Data in the form of attributes (also called fields or properties)\n",
    "Code in the form of methods (functions that operate on the data)\n",
    "'''"
   ]
  },
  {
   "cell_type": "code",
   "execution_count": null,
   "id": "35589fb0-4c68-4c46-86a0-73c84408162b",
   "metadata": {},
   "outputs": [],
   "source": [
    "'''\n",
    "2.What is a class in OOP?\n",
    "Ans  A class in OOP is a blueprint or template for creating objects.\n",
    "Just like a blueprint defines the structure of a building but is not the building itself,\n",
    "a class defines the structure and behavior (data and functions) of objects, but it is not an object on its own.\n",
    "'''"
   ]
  },
  {
   "cell_type": "code",
   "execution_count": null,
   "id": "a4cfe1b6-7898-40fc-b7a4-04c54eda4154",
   "metadata": {},
   "outputs": [],
   "source": [
    "'''\n",
    "3.What is an object in OOP?\n",
    "Ans  An object is a real-world instance of a class. It represents a specific entity that has:\n",
    "State → defined by its attributes (data)\n",
    "Behavior → defined by its methods (functions)\n",
    "'''\n"
   ]
  },
  {
   "cell_type": "code",
   "execution_count": null,
   "id": "7c5d0366-22a2-4e19-a561-96d1d79b8635",
   "metadata": {},
   "outputs": [],
   "source": [
    "'''\n",
    "4.What is the difference between abstraction and encapsulation?\n",
    "Ans| Feature         | **Abstraction**                                                            | **Encapsulation**                                                                        |\n",
    "| --------------- | -------------------------------------------------------------------------- | ---------------------------------------------------------------------------------------- |\n",
    "| **Definition**  | Hides **implementation details** and shows only the **essential features** | Bundles **data and methods** into a single unit (object) and **restricts direct access** |\n",
    "| **Goal**        | Focus on **what** an object does                                           | Focus on **how** data is **protected** inside the object                                 |\n",
    "| **Hides**       | Internal implementation                                                    | Internal data (via access control)                                                       |\n",
    "| **Achieved by** | Abstract classes, interfaces (or in Python, base classes + method stubs)   | Using private/public/protected access modifiers (`_` or `__` in Python)                  |\n",
    "| **Example**     | You press a button on a TV remote – you don’t know how it works inside     | The TV remote’s circuit is hidden inside its case (data hidden, only buttons exposed)    |\n",
    "| **Main Use**    | Reducing complexity and increasing usability                               | Preventing unintended access and modification                                            |\n",
    "'''"
   ]
  },
  {
   "cell_type": "code",
   "execution_count": null,
   "id": "bc4e6ca8-399c-4876-ab4e-6dfb9803379f",
   "metadata": {},
   "outputs": [],
   "source": [
    "'''\n",
    "5.What are dunder methods in Python?\n",
    "Ans Dunder methods (short for double underscore methods), also called magic methods or special methods, are built-in methods in Python that start and end with double underscores:\n",
    " __method__\n",
    "\n",
    "These methods let you customize how objects behave with built-in Python operations like printing, addition, comparison, etc.\n",
    "'''\n"
   ]
  },
  {
   "cell_type": "code",
   "execution_count": null,
   "id": "3f7405eb-3082-4318-92df-62449b31e431",
   "metadata": {},
   "outputs": [],
   "source": [
    "'''\n",
    "6.Explain the concept of inheritance in OOP?\n",
    "AnsInheritance is a fundamental concept in OOP that allows one class (called the child or subclass) to inherit the properties and behaviors (attributes and methods) of another class (called the parent or superclass).\n",
    "\n",
    "Purpose of Inheritance:\n",
    "Code reusability: You don't have to write the same code again.\n",
    "Extend functionality: Child classes can add or modify features.\n",
    "'''"
   ]
  },
  {
   "cell_type": "code",
   "execution_count": null,
   "id": "b5cc18c1-070d-4878-91a6-de243c908236",
   "metadata": {},
   "outputs": [],
   "source": [
    "'''\n",
    "7.What is polymorphism in OOP?\n",
    "AnsPolymorphism means “many forms”.\n",
    "In OOP, it allows objects of different classes to be treated as objects of a common superclass, with behavior that varies depending on the object.\n",
    "'''"
   ]
  },
  {
   "cell_type": "code",
   "execution_count": null,
   "id": "da1ef6d5-8f1a-4b4f-a4bc-cc82a6652048",
   "metadata": {},
   "outputs": [],
   "source": [
    "'''\n",
    "8. How is encapsulation achieved in Python?\n",
    "Ans Encapsulation is achieved in Python by using classes to bundle data (attributes) and methods that operate on the data into one unit.\n",
    "Access modifiers like public, protected (_var), and private (__var) help control access to variables.\n",
    "'''"
   ]
  },
  {
   "cell_type": "code",
   "execution_count": null,
   "id": "9c314161-12a7-42bd-b430-5ca93f37020a",
   "metadata": {},
   "outputs": [],
   "source": [
    "'''\n",
    "9. What is a constructor in Python?\n",
    "Ans A constructor in Python is a special method named __init__ that is automatically called when a new object is created.\n",
    "It is used to initialize the attributes of a class.\n",
    "'''"
   ]
  },
  {
   "cell_type": "code",
   "execution_count": null,
   "id": "c6dd281d-4e91-4e6c-91cc-1fe2831be08c",
   "metadata": {},
   "outputs": [],
   "source": [
    "'''\n",
    "10. What are class and static methods in Python?\n",
    "Ans Class methods are defined using the @classmethod decorator and take `cls` as the first parameter. They can modify class state that applies across all instances.\n",
    "Static methods are defined using the @staticmethod decorator and do not take `self` or `cls` as the first parameter. They behave like regular functions inside a class.\n",
    "'''"
   ]
  },
  {
   "cell_type": "code",
   "execution_count": null,
   "id": "4e9b06e4-2240-4949-9467-cb5ecfdbacfb",
   "metadata": {},
   "outputs": [],
   "source": [
    "'''\n",
    "11. What is method overloading in Python?\n",
    "Ans Python does not support traditional method overloading. However, similar behavior can be achieved using default arguments or *args and **kwargs to handle different numbers of inputs.\n",
    "'''"
   ]
  },
  {
   "cell_type": "code",
   "execution_count": null,
   "id": "a7482d6b-62dd-4ed5-a391-86c2b2d23cdf",
   "metadata": {},
   "outputs": [],
   "source": [
    "'''\n",
    "12. What is method overriding in OOP?\n",
    "Ans Method overriding occurs when a subclass defines a method that already exists in its superclass.\n",
    "The subclass version is used instead of the superclass version, allowing customization of behavior.\n",
    "'''"
   ]
  },
  {
   "cell_type": "code",
   "execution_count": null,
   "id": "3feb0e29-c1e7-4196-9f72-f0e7b7f3978f",
   "metadata": {},
   "outputs": [],
   "source": [
    "'''\n",
    "13. What is a property decorator in Python?\n",
    "Ans A property decorator (@property) in Python allows a method to be accessed like an attribute. It is commonly used to define getter, setter, and deleter methods in a clean and readable way.\n",
    "'''"
   ]
  },
  {
   "cell_type": "code",
   "execution_count": null,
   "id": "17989a2c-d9a1-4103-8b2e-190d8cf757e6",
   "metadata": {},
   "outputs": [],
   "source": [
    "'''\n",
    "14. Why is polymorphism important in OOP?\n",
    "Ans Polymorphism allows objects of different classes to be treated as objects of a common superclass. It enhances flexibility and scalability by enabling the same interface to be used for different underlying forms (data types).\n",
    "'''"
   ]
  },
  {
   "cell_type": "code",
   "execution_count": null,
   "id": "1d03a83a-8e7e-4855-be4b-0e5803726dfe",
   "metadata": {},
   "outputs": [],
   "source": [
    "'''\n",
    "15. What is an abstract class in Python?\n",
    "Ans An abstract class in Python is a class that cannot be instantiated and usually contains one or more abstract methods. It is created using the `abc` module and the @abstractmethod decorator. It serves as a blueprint for other classes.\n",
    "'''"
   ]
  },
  {
   "cell_type": "code",
   "execution_count": null,
   "id": "b181cfb5-b9d7-4ac6-88ab-69167d31d929",
   "metadata": {},
   "outputs": [],
   "source": [
    "'''\n",
    "16. What are the advantages of OOP?\n",
    "Ans - Modularity: Code is organized into classes.\n",
    "- Reusability: Inheritance allows reuse of code.\n",
    "- Flexibility: Polymorphism provides dynamic behavior.\n",
    "- Maintainability: Encapsulation hides internal details.\n",
    "'''"
   ]
  },
  {
   "cell_type": "code",
   "execution_count": null,
   "id": "fb13b2e3-d5c7-46fc-ad2d-e0dee3b94ce7",
   "metadata": {},
   "outputs": [],
   "source": [
    "'''\n",
    "17. What is the difference between a class variable and an instance variable?\n",
    "Ans Class variables are shared across all instances of a class, while instance variables are unique to each instance.\n",
    "Class variables are defined inside the class but outside any method, whereas instance variables are usually defined inside the constructor.\n",
    "'''"
   ]
  },
  {
   "cell_type": "code",
   "execution_count": null,
   "id": "d0b5a225-371c-4223-ba48-4515c02d469c",
   "metadata": {},
   "outputs": [],
   "source": [
    "'''\n",
    "18. What is multiple inheritance in Python?\n",
    "Ans Multiple inheritance is a feature where a class can inherit from more than one base class.\n",
    "Python supports multiple inheritance directly, and the method resolution order (MRO) is used to resolve ambiguity.\n",
    "'''"
   ]
  },
  {
   "cell_type": "code",
   "execution_count": null,
   "id": "3ccadfff-a0ee-467f-b522-530da7f4043a",
   "metadata": {},
   "outputs": [],
   "source": [
    "'''\n",
    "19. Explain the purpose of '__str__' and '__repr__' methods in Python.\n",
    "Ans The `__str__` method returns a readable string representation of an object, used by the `print()` function.\n",
    "The `__repr__` method returns an official string representation, used for debugging and should ideally be unambiguous.\n",
    "'''"
   ]
  },
  {
   "cell_type": "code",
   "execution_count": null,
   "id": "38feb988-c535-4049-a3a8-35545ee81924",
   "metadata": {},
   "outputs": [],
   "source": [
    "'''\n",
    "20. What is the significance of the ‘super()’ function in Python?\n",
    "Ans The `super()` function is used to call methods from a parent class.\n",
    "It is commonly used in constructors to initialize the parent class when a subclass is defined.\n",
    "'''"
   ]
  },
  {
   "cell_type": "code",
   "execution_count": null,
   "id": "6b6cc6f7-1317-401e-a828-85371298d644",
   "metadata": {},
   "outputs": [],
   "source": [
    "'''\n",
    "21. What is the significance of the __del__ method in Python?\n",
    "Ans The `__del__` method is a destructor that is automatically called when an object is about to be destroyed.\n",
    "It is used for cleanup operations like closing files or releasing resources.\n",
    "'''"
   ]
  },
  {
   "cell_type": "code",
   "execution_count": null,
   "id": "7ff69c67-dccd-4912-9fe4-8d8619106709",
   "metadata": {},
   "outputs": [],
   "source": [
    "'''\n",
    "22. What is the difference between @staticmethod and @classmethod in Python?\n",
    "Ans - `@staticmethod` does not receive an implicit first argument and behaves like a regular function inside a class.\n",
    "- `@classmethod` receives the class (`cls`) as the first argument and can access or modify class state.\n",
    "'''"
   ]
  },
  {
   "cell_type": "code",
   "execution_count": null,
   "id": "9d08eff3-3b1c-468f-886a-4fc2cbd88ce4",
   "metadata": {},
   "outputs": [],
   "source": [
    "'''\n",
    "23. How does polymorphism work in Python with inheritance?\n",
    "Ans Polymorphism in Python allows the same method name to be used in different classes.\n",
    "When classes are related by inheritance, the method that is actually called depends on the type of the object invoking it.\n",
    "'''"
   ]
  },
  {
   "cell_type": "code",
   "execution_count": null,
   "id": "70cfed3a-82da-4680-9a9a-aa1ae0dc2839",
   "metadata": {},
   "outputs": [],
   "source": [
    "'''\n",
    "24. What is method chaining in Python OOP?\n",
    "Ans Method chaining is a technique where multiple methods are called on the same object in a single line by returning `self` from each method.\n",
    "'''"
   ]
  },
  {
   "cell_type": "code",
   "execution_count": null,
   "id": "d2b4f0c6-6da8-40d9-9ac4-720a8b728884",
   "metadata": {},
   "outputs": [],
   "source": [
    "'''\n",
    "25. What is the purpose of the __call__ method in Python?\n",
    "Ans The `__call__` method allows an instance of a class to be called as if it were a function. This enables objects to have callable behavior.\n",
    "'''"
   ]
  },
  {
   "cell_type": "markdown",
   "id": "00bd834c-d002-476a-87f8-2c55101e8c94",
   "metadata": {},
   "source": [
    "# Practical Questions"
   ]
  },
  {
   "cell_type": "code",
   "execution_count": 1,
   "id": "bca053bd-fa38-4e3c-998f-6985f11cd929",
   "metadata": {},
   "outputs": [
    {
     "name": "stdout",
     "output_type": "stream",
     "text": [
      "This animal makes a sound.\n",
      "Bark!\n"
     ]
    }
   ],
   "source": [
    "#1Create a parent class Animal with a method speak() that prints a generic message. Create a child class Dog that overrides the speak() method to print \"Bark!\".\n",
    "# Parent class\n",
    "class Animal:\n",
    "    def speak(self):\n",
    "        print(\"This animal makes a sound.\")\n",
    "\n",
    "# Child class\n",
    "class Dog(Animal):\n",
    "    def speak(self):\n",
    "        print(\"Bark!\")\n",
    "\n",
    "# Example usage\n",
    "a = Animal()\n",
    "a.speak()   # Output: This animal makes a sound.\n",
    "\n",
    "d = Dog()\n",
    "d.speak()   # Output: Bark!\n"
   ]
  },
  {
   "cell_type": "code",
   "execution_count": 2,
   "id": "1bdd2188-ecb2-4828-9864-8a7926d5d5bc",
   "metadata": {},
   "outputs": [
    {
     "name": "stdout",
     "output_type": "stream",
     "text": [
      "Area of Circle: 78.53981633974483\n",
      "Area of Rectangle: 24\n"
     ]
    }
   ],
   "source": [
    "#2 Write a program to create an abstract class Shape with a method area(). Derive classes Circle and Rectangle from it and implement the area() method in both.\n",
    "import abc\n",
    "import math\n",
    "\n",
    "# Abstract base class\n",
    "class Shape():\n",
    "    @abc.abstractmethod\n",
    "    def area(self):\n",
    "        pass\n",
    "\n",
    "# Derived class: Circle\n",
    "class Circle(Shape):\n",
    "    def __init__(self, radius):\n",
    "        self.radius = radius\n",
    "\n",
    "    def area(self):\n",
    "        return math.pi * self.radius ** 2\n",
    "\n",
    "# Derived class: Rectangle\n",
    "class Rectangle(Shape):\n",
    "    def __init__(self, length, width):\n",
    "        self.length = length\n",
    "        self.width = width\n",
    "\n",
    "    def area(self):\n",
    "        return self.length * self.width\n",
    "\n",
    "# Example usage\n",
    "c = Circle(5)\n",
    "print(\"Area of Circle:\", c.area())\n",
    "\n",
    "r = Rectangle(4, 6)\n",
    "print(\"Area of Rectangle:\", r.area())\n"
   ]
  },
  {
   "cell_type": "code",
   "execution_count": 3,
   "id": "7eca2247-a03c-4dd7-b1b3-d69e61a93f06",
   "metadata": {},
   "outputs": [
    {
     "name": "stdout",
     "output_type": "stream",
     "text": [
      "Type: Four Wheeler\n",
      "Brand: Tesla\n",
      "Battery: 75 kWh\n"
     ]
    }
   ],
   "source": [
    "#3 Implement a multi-level inheritance scenario where a class Vehicle has an attribute type. Derive a class Car\n",
    "#and further derive a class ElectricCar that adds a battery attribute.\n",
    "# Base class\n",
    "class Vehicle:\n",
    "    def __init__(self, type):\n",
    "        self.type = type\n",
    "\n",
    "# Derived class from Vehicle\n",
    "class Car(Vehicle):\n",
    "    def __init__(self, type, brand):\n",
    "        super().__init__(type)\n",
    "        self.brand = brand\n",
    "\n",
    "# Further derived class from Car\n",
    "class ElectricCar(Car):\n",
    "    def __init__(self, type, brand, battery):\n",
    "        super().__init__(type, brand)\n",
    "        self.battery = battery\n",
    "\n",
    "    def display_info(self):\n",
    "        print(f\"Type: {self.type}\")\n",
    "        print(f\"Brand: {self.brand}\")\n",
    "        print(f\"Battery: {self.battery} kWh\")\n",
    "\n",
    "# Example usage\n",
    "ecar = ElectricCar(\"Four Wheeler\", \"Tesla\", 75)\n",
    "ecar.display_info()\n",
    "\n"
   ]
  },
  {
   "cell_type": "code",
   "execution_count": 4,
   "id": "72562582-fa7d-46a7-899b-905e07ee89cb",
   "metadata": {},
   "outputs": [
    {
     "name": "stdout",
     "output_type": "stream",
     "text": [
      "Sparrow flies high in the sky.\n",
      "Penguins can't fly, they swim.\n"
     ]
    }
   ],
   "source": [
    "#4Demonstrate polymorphism by creating a base class Bird with a method fly(). Create two derived classes\n",
    "# Sparrow and Penguin that override the fly() method.\n",
    "# Base class\n",
    "class Bird:\n",
    "    def fly(self):\n",
    "        print(\"Bird is flying.\")\n",
    "\n",
    "# Derived class: Sparrow\n",
    "class Sparrow(Bird):\n",
    "    def fly(self):\n",
    "        print(\"Sparrow flies high in the sky.\")\n",
    "\n",
    "# Derived class: Penguin\n",
    "class Penguin(Bird):\n",
    "    def fly(self):\n",
    "        print(\"Penguins can't fly, they swim.\")\n",
    "\n",
    "# Function to demonstrate polymorphism\n",
    "def bird_flight(bird):\n",
    "    bird.fly()\n",
    "\n",
    "# Example usage\n",
    "b1 = Sparrow()\n",
    "b2 = Penguin()\n",
    "\n",
    "bird_flight(b1)  # Output: Sparrow flies high in the sky.\n",
    "bird_flight(b2)  # Output: Penguins can't fly, they swim.\n"
   ]
  },
  {
   "cell_type": "code",
   "execution_count": 5,
   "id": "8b9145f4-e8ff-4a82-b4a0-ed5365ad6167",
   "metadata": {},
   "outputs": [
    {
     "name": "stdout",
     "output_type": "stream",
     "text": [
      "Current balance: 1000\n",
      "Deposited: 500\n",
      "Withdrawn: 300\n",
      "Current balance: 1200\n"
     ]
    }
   ],
   "source": [
    "#5Write a program to demonstrate encapsulation by creating a class BankAccount with private attributes\n",
    "#balance and methods to deposit, withdraw, and check balance.\n",
    "class BankAccount:\n",
    "    def __init__(self, initial_balance=0):\n",
    "        self.__balance = initial_balance  # Private attribute\n",
    "\n",
    "    # Method to deposit money\n",
    "    def deposit(self, amount):\n",
    "        if amount > 0:\n",
    "            self.__balance += amount\n",
    "            print(f\"Deposited: {amount}\")\n",
    "        else:\n",
    "            print(\"Deposit amount must be positive.\")\n",
    "\n",
    "    # Method to withdraw money\n",
    "    def withdraw(self, amount):\n",
    "        if amount <= self.__balance:\n",
    "            self.__balance -= amount\n",
    "            print(f\"Withdrawn: {amount}\")\n",
    "        else:\n",
    "            print(\"Insufficient balance.\")\n",
    "\n",
    "    # Method to check balance\n",
    "    def check_balance(self):\n",
    "        print(f\"Current balance: {self.__balance}\")\n",
    "\n",
    "# Example usage\n",
    "account = BankAccount(1000)\n",
    "account.check_balance()    # Output: Current balance: 1000\n",
    "account.deposit(500)       # Output: Deposited: 500\n",
    "account.withdraw(300)      # Output: Withdrawn: 300\n",
    "account.check_balance()    # Output: Current balance: 1200\n"
   ]
  },
  {
   "cell_type": "code",
   "execution_count": 6,
   "id": "fde32aa0-c05b-485e-be00-bf93caa218fd",
   "metadata": {},
   "outputs": [
    {
     "name": "stdout",
     "output_type": "stream",
     "text": [
      "Strumming the guitar.\n",
      "Playing the piano keys.\n"
     ]
    }
   ],
   "source": [
    "#6Demonstrate runtime polymorphism using a method play() in a base class Instrument. Derive classes Guitar\n",
    "#and Piano that implement their own version of play().\n",
    "# Base class\n",
    "class Instrument:\n",
    "    def play(self):\n",
    "        print(\"Instrument is playing.\")\n",
    "\n",
    "# Derived class: Guitar\n",
    "class Guitar(Instrument):\n",
    "    def play(self):\n",
    "        print(\"Strumming the guitar.\")\n",
    "\n",
    "# Derived class: Piano\n",
    "class Piano(Instrument):\n",
    "    def play(self):\n",
    "        print(\"Playing the piano keys.\")\n",
    "\n",
    "# Function that demonstrates runtime polymorphism\n",
    "def perform(instrument):\n",
    "    instrument.play()\n",
    "\n",
    "# Example usage\n",
    "g = Guitar()\n",
    "p = Piano()\n",
    "\n",
    "perform(g)  # Output: Strumming the guitar.\n",
    "perform(p)  # Output: Playing the piano keys.\n"
   ]
  },
  {
   "cell_type": "code",
   "execution_count": 7,
   "id": "8df3a5bb-6bb6-4afd-a53c-7bb1a0376562",
   "metadata": {},
   "outputs": [
    {
     "name": "stdout",
     "output_type": "stream",
     "text": [
      "Sum: 15\n",
      "Difference: 5\n"
     ]
    }
   ],
   "source": [
    "#7Create a class MathOperations with a class method add_numbers() to add two numbers and a static\n",
    "#method subtract_numbers() to subtract two numbers.\n",
    "class MathOperations:\n",
    "    # Class method to add two numbers\n",
    "    @classmethod\n",
    "    def add_numbers(cls, a, b):\n",
    "        return a + b\n",
    "\n",
    "    # Static method to subtract two numbers\n",
    "    @staticmethod\n",
    "    def subtract_numbers(a, b):\n",
    "        return a - b\n",
    "\n",
    "# Example usage\n",
    "sum_result = MathOperations.add_numbers(10, 5)\n",
    "print(\"Sum:\", sum_result)  # Output: Sum: 15\n",
    "\n",
    "diff_result = MathOperations.subtract_numbers(10, 5)\n",
    "print(\"Difference:\", diff_result)  # Output: Difference: 5\n"
   ]
  },
  {
   "cell_type": "code",
   "execution_count": 8,
   "id": "f2941073-ca7c-4561-88a4-45d11f40795f",
   "metadata": {},
   "outputs": [
    {
     "name": "stdout",
     "output_type": "stream",
     "text": [
      "Total persons created: 3\n"
     ]
    }
   ],
   "source": [
    "#8 Implement a class Person with a class method to count the total number of persons created.\n",
    "class Person:\n",
    "    count = 0  # Class variable to track number of persons\n",
    "\n",
    "    def __init__(self, name):\n",
    "        self.name = name\n",
    "        Person.count += 1\n",
    "\n",
    "    # Class method to get the current count\n",
    "    @classmethod\n",
    "    def total_persons(cls):\n",
    "        return cls.count\n",
    "\n",
    "# Example usage\n",
    "p1 = Person(\"Alice\")\n",
    "p2 = Person(\"Bob\")\n",
    "p3 = Person(\"Charlie\")\n",
    "\n",
    "print(\"Total persons created:\", Person.total_persons())  # Output: 3\n"
   ]
  },
  {
   "cell_type": "code",
   "execution_count": 9,
   "id": "a4d3f80b-9a05-4f7e-82c6-deeaa7997ed5",
   "metadata": {},
   "outputs": [
    {
     "name": "stdout",
     "output_type": "stream",
     "text": [
      "3/4\n",
      "5/8\n"
     ]
    }
   ],
   "source": [
    "#9 Write a class Fraction with attributes numerator and denominator. Override the str method to display the\n",
    "#fraction as \"numerator/denominator\".\n",
    "class Fraction:\n",
    "    def __init__(self, numerator, denominator):\n",
    "        self.numerator = numerator\n",
    "        self.denominator = denominator\n",
    "\n",
    "    # Override __str__ to display fraction nicely\n",
    "    def __str__(self):\n",
    "        return f\"{self.numerator}/{self.denominator}\"\n",
    "\n",
    "# Example usage\n",
    "f1 = Fraction(3, 4)\n",
    "f2 = Fraction(5, 8)\n",
    "\n",
    "print(f1)  # Output: 3/4\n",
    "print(f2)  # Output: 5/8\n"
   ]
  },
  {
   "cell_type": "code",
   "execution_count": 10,
   "id": "4025479d-0083-4f77-a84a-40e8d9652dcd",
   "metadata": {},
   "outputs": [
    {
     "name": "stdout",
     "output_type": "stream",
     "text": [
      "Vector(2, 3)\n",
      "Vector(4, 5)\n",
      "Vector(6, 8)\n"
     ]
    }
   ],
   "source": [
    "#10Demonstrate operator overloading by creating a class Vector and overriding the add method to add two vectors.\n",
    "class Vector:\n",
    "    def __init__(self, x, y):\n",
    "        self.x = x\n",
    "        self.y = y\n",
    "\n",
    "    # Overload the + operator\n",
    "    def __add__(self, other):\n",
    "        return Vector(self.x + other.x, self.y + other.y)\n",
    "\n",
    "    # For a nice print format\n",
    "    def __str__(self):\n",
    "        return f\"Vector({self.x}, {self.y})\"\n",
    "\n",
    "# Example usage\n",
    "v1 = Vector(2, 3)\n",
    "v2 = Vector(4, 5)\n",
    "v3 = v1 + v2\n",
    "\n",
    "print(v1)  # Output: Vector(2, 3)\n",
    "print(v2)  # Output: Vector(4, 5)\n",
    "print(v3)  # Output: Vector(6, 8)\n"
   ]
  },
  {
   "cell_type": "code",
   "execution_count": 11,
   "id": "5d348890-4b22-4b95-ba69-afda076635d1",
   "metadata": {},
   "outputs": [
    {
     "name": "stdout",
     "output_type": "stream",
     "text": [
      "Hello, my name is Alice and I am 25 years old.\n"
     ]
    }
   ],
   "source": [
    "#11 Create a class Person with attributes name and age. Add a method greet() that prints \"Hello, my name is\n",
    "# {name} and I am {age} years old.\"\n",
    "class Person:\n",
    "    def __init__(self, name, age):\n",
    "        self.name = name\n",
    "        self.age = age\n",
    "\n",
    "    def greet(self):\n",
    "        print(f\"Hello, my name is {self.name} and I am {self.age} years old.\")\n",
    "\n",
    "# Example usage\n",
    "p1 = Person(\"Alice\", 25)\n",
    "p1.greet()  # Output: Hello, my name is Alice and I am 25 years old.\n"
   ]
  },
  {
   "cell_type": "code",
   "execution_count": 12,
   "id": "8f9ea717-0e91-4f99-a5fa-28a310e39640",
   "metadata": {},
   "outputs": [
    {
     "name": "stdout",
     "output_type": "stream",
     "text": [
      "Rahul's average grade is: 85.25\n"
     ]
    }
   ],
   "source": [
    "#12Implement a class Student with attributes name and grades. Create a method average_grade() to compute\n",
    "# the average of the grades\n",
    "class Student:\n",
    "    def __init__(self, name, grades):\n",
    "        self.name = name\n",
    "        self.grades = grades  # A list of numbers\n",
    "\n",
    "    def average_grade(self):\n",
    "        if not self.grades:\n",
    "            return 0\n",
    "        return sum(self.grades) / len(self.grades)\n",
    "\n",
    "# Example usage\n",
    "student1 = Student(\"Rahul\", [88, 76, 92, 85])\n",
    "print(f\"{student1.name}'s average grade is: {student1.average_grade():.2f}\")\n"
   ]
  },
  {
   "cell_type": "code",
   "execution_count": 13,
   "id": "8adc3dbb-c182-4f68-879a-9fe25ecb6582",
   "metadata": {},
   "outputs": [
    {
     "name": "stdout",
     "output_type": "stream",
     "text": [
      "Area of rectangle: 20\n"
     ]
    }
   ],
   "source": [
    "#13 Create a class Rectangle with methods set_dimensions() to set the dimensions and area() to calculate the\n",
    "# area.\n",
    "class Rectangle:\n",
    "    def __init__(self):\n",
    "        self.length = 0\n",
    "        self.width = 0\n",
    "\n",
    "    # Method to set dimensions\n",
    "    def set_dimensions(self, length, width):\n",
    "        self.length = length\n",
    "        self.width = width\n",
    "\n",
    "    # Method to calculate area\n",
    "    def area(self):\n",
    "        return self.length * self.width\n",
    "\n",
    "# Example usage\n",
    "rect = Rectangle()\n",
    "rect.set_dimensions(5, 4)\n",
    "print(\"Area of rectangle:\", rect.area())  # Output: Area of rectangle: 20\n"
   ]
  },
  {
   "cell_type": "code",
   "execution_count": 14,
   "id": "13361647-c25d-4672-b4c2-e08d5c200e2f",
   "metadata": {},
   "outputs": [
    {
     "name": "stdout",
     "output_type": "stream",
     "text": [
      "Alice's salary: 800\n",
      "Bob's salary: 1850\n"
     ]
    }
   ],
   "source": [
    "#14 Create a class Employee with a method calculate_salary() that computes the salary based on hours worked\n",
    "# and hourly rate. Create a derived class Manager that adds a bonus to the salary.\n",
    "# Base class\n",
    "class Employee:\n",
    "    def __init__(self, name, hours_worked, hourly_rate):\n",
    "        self.name = name\n",
    "        self.hours_worked = hours_worked\n",
    "        self.hourly_rate = hourly_rate\n",
    "\n",
    "    def calculate_salary(self):\n",
    "        return self.hours_worked * self.hourly_rate\n",
    "\n",
    "# Derived class\n",
    "class Manager(Employee):\n",
    "    def __init__(self, name, hours_worked, hourly_rate, bonus):\n",
    "        super().__init__(name, hours_worked, hourly_rate)\n",
    "        self.bonus = bonus\n",
    "\n",
    "    def calculate_salary(self):\n",
    "        base_salary = super().calculate_salary()\n",
    "        return base_salary + self.bonus\n",
    "\n",
    "# Example usage\n",
    "emp = Employee(\"Alice\", 40, 20)\n",
    "print(f\"{emp.name}'s salary: {emp.calculate_salary()}\")  # Output: 800\n",
    "\n",
    "mgr = Manager(\"Bob\", 45, 30, 500)\n",
    "print(f\"{mgr.name}'s salary: {mgr.calculate_salary()}\")  # Output: 1850\n"
   ]
  },
  {
   "cell_type": "code",
   "execution_count": 15,
   "id": "ec88540e-ae0b-4fd7-a3c7-43489805fca5",
   "metadata": {},
   "outputs": [
    {
     "name": "stdout",
     "output_type": "stream",
     "text": [
      "Total price for Laptop: ₹100000\n"
     ]
    }
   ],
   "source": [
    "#15 Create a class Product with attributes name, price, and quantity. Implement a method total_price() that\n",
    "# calculates the total price of the product.\n",
    "class Product:\n",
    "    def __init__(self, name, price, quantity):\n",
    "        self.name = name\n",
    "        self.price = price      # Price per unit\n",
    "        self.quantity = quantity  # Number of units\n",
    "\n",
    "    # Method to calculate total price\n",
    "    def total_price(self):\n",
    "        return self.price * self.quantity\n",
    "\n",
    "# Example usage\n",
    "p1 = Product(\"Laptop\", 50000, 2)\n",
    "print(f\"Total price for {p1.name}: ₹{p1.total_price()}\")  # Output: ₹100000\n"
   ]
  },
  {
   "cell_type": "code",
   "execution_count": 16,
   "id": "1ee024a2-a0b7-4ed7-95c7-feaae9acee51",
   "metadata": {},
   "outputs": [
    {
     "name": "stdout",
     "output_type": "stream",
     "text": [
      "Cow says Moo!\n",
      "Sheep says Baa!\n"
     ]
    }
   ],
   "source": [
    "#16 Create a class Animal with an abstract method sound(). Create two derived classes Cow and Sheep that\n",
    "# implement the sound() method.\n",
    "import abc\n",
    "\n",
    "# Abstract base class\n",
    "class Animal(abc.ABC):\n",
    "    @abc.abstractmethod\n",
    "    def sound(self):\n",
    "        pass\n",
    "\n",
    "# Derived class: Cow\n",
    "class Cow(Animal):\n",
    "    def sound(self):\n",
    "        print(\"Cow says Moo!\")\n",
    "\n",
    "# Derived class: Sheep\n",
    "class Sheep(Animal):\n",
    "    def sound(self):\n",
    "        print(\"Sheep says Baa!\")\n",
    "\n",
    "# Example usage\n",
    "c = Cow()\n",
    "s = Sheep()\n",
    "\n",
    "c.sound()  # Output: Cow says Moo!\n",
    "s.sound()  # Output: Sheep says Baa!\n"
   ]
  },
  {
   "cell_type": "code",
   "execution_count": 17,
   "id": "76e6e2ad-47a6-407c-94b4-5a6d2d059955",
   "metadata": {},
   "outputs": [
    {
     "name": "stdout",
     "output_type": "stream",
     "text": [
      "'To Kill a Mockingbird' by Harper Lee (Published in 1960)\n"
     ]
    }
   ],
   "source": [
    "#17Create a class Book with attributes title, author, and year_published. Add a method get_book_info() that\n",
    "# returns a formatted string with the book's details\n",
    "class Book:\n",
    "    def __init__(self, title, author, year_published):\n",
    "        self.title = title\n",
    "        self.author = author\n",
    "        self.year_published = year_published\n",
    "\n",
    "    def get_book_info(self):\n",
    "        return f\"'{self.title}' by {self.author} (Published in {self.year_published})\"\n",
    "\n",
    "# Example usage\n",
    "book1 = Book(\"To Kill a Mockingbird\", \"Harper Lee\", 1960)\n",
    "print(book1.get_book_info())\n"
   ]
  },
  {
   "cell_type": "code",
   "execution_count": 18,
   "id": "1eab748e-285c-40be-804e-811466bd0cbf",
   "metadata": {},
   "outputs": [
    {
     "name": "stdout",
     "output_type": "stream",
     "text": [
      "Address: 45 Luxury Lane\n",
      "Price: ₹ 50000000\n",
      "Number of Rooms: 10\n"
     ]
    }
   ],
   "source": [
    "#18 Create a class House with attributes address and price. Create a derived class Mansion that adds an\n",
    "# attribute number_of_rooms.\n",
    "# Base class\n",
    "class House:\n",
    "    def __init__(self, address, price):\n",
    "        self.address = address\n",
    "        self.price = price\n",
    "\n",
    "# Derived class\n",
    "class Mansion(House):\n",
    "    def __init__(self, address, price, number_of_rooms):\n",
    "        super().__init__(address, price)\n",
    "        self.number_of_rooms = number_of_rooms\n",
    "\n",
    "# Example usage\n",
    "m1 = Mansion(\"45 Luxury Lane\", 50000000, 10)\n",
    "\n",
    "print(\"Address:\", m1.address)\n",
    "print(\"Price: ₹\", m1.price)\n",
    "print(\"Number of Rooms:\", m1.number_of_rooms)\n"
   ]
  },
  {
   "cell_type": "code",
   "execution_count": null,
   "id": "f8889c95-500a-4efb-9d81-5ef1c5538da6",
   "metadata": {},
   "outputs": [],
   "source": []
  }
 ],
 "metadata": {
  "kernelspec": {
   "display_name": "Python 3 (ipykernel)",
   "language": "python",
   "name": "python3"
  },
  "language_info": {
   "codemirror_mode": {
    "name": "ipython",
    "version": 3
   },
   "file_extension": ".py",
   "mimetype": "text/x-python",
   "name": "python",
   "nbconvert_exporter": "python",
   "pygments_lexer": "ipython3",
   "version": "3.12.7"
  }
 },
 "nbformat": 4,
 "nbformat_minor": 5
}
