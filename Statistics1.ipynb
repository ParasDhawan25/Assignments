{
 "cells": [
  {
   "cell_type": "code",
   "execution_count": 1,
   "id": "e49ea54a-a8c1-4858-9e2e-eb26a0b7f813",
   "metadata": {},
   "outputs": [],
   "source": [
    "#Q1 What is the difference between descriptive statistics and inferential statistics? Explain with examples"
   ]
  },
  {
   "cell_type": "code",
   "execution_count": 2,
   "id": "fe557dc0-b49a-4814-a45f-ffe1b783eb17",
   "metadata": {},
   "outputs": [],
   "source": [
    "#>>Descriptive statistics summarize and describe the main features of a dataset.\n",
    "#    using measure of central tendency,measure of dispersion,measure of symmetry\n",
    "#>> Inferential statistics use a sample to make predictions or generalizations about a population.\n",
    "#    using skweness\n",
    "#eg:Average height of 50 students is 160 cm-descrpitive\n",
    "#Estimated average height of all students is between 158–162 cm-inferential"
   ]
  },
  {
   "cell_type": "code",
   "execution_count": 2,
   "id": "81f74b62-0681-482e-8a5d-e49bcb81e721",
   "metadata": {},
   "outputs": [],
   "source": [
    "#What is sampling in statistics? Explain the differences between random and stratified sampling."
   ]
  },
  {
   "cell_type": "code",
   "execution_count": 1,
   "id": "3236404a-53a6-40c8-9395-86f0d5f8ee5f",
   "metadata": {},
   "outputs": [],
   "source": [
    "#sampling is the process of selecting a subset (sample) from a larger group (population) to analyze and draw conclusions without having to study the entire population.\n",
    "#random sampling mean selecting on its own\n",
    "#startified sampling mean selecting from each layer but in layer there is random sampling"
   ]
  },
  {
   "cell_type": "code",
   "execution_count": 3,
   "id": "5278bd29-296f-42fc-a6c7-5e14494c3361",
   "metadata": {},
   "outputs": [],
   "source": [
    "#Define mean, median, and mode. Explain why these measures of central tendency are important. "
   ]
  },
  {
   "cell_type": "code",
   "execution_count": 3,
   "id": "2a7e1fd2-ac3a-46af-8ca0-08a82509bf9a",
   "metadata": {},
   "outputs": [],
   "source": [
    "#Mean:The average of all values, calculated by summing all numbers and dividing by the total count.\n",
    "#Median:The middle value in a sorted list; if the number of values is even, it's the average of the two middle numbers.\n",
    "#Mode:The value that occurs most frequently in a dataset.\n",
    "#useful for:-They provide summaries of data to understand central trends.\n",
    "#            Help in comparing different datasets.\n",
    "#            Guide decision-making in fields like business, health, and education"
   ]
  },
  {
   "cell_type": "code",
   "execution_count": 4,
   "id": "49d36f75-3f24-4829-9830-9e6559bf141b",
   "metadata": {},
   "outputs": [],
   "source": [
    "#Explain skewness and kurtosis. What does a positive skew imply about the data?"
   ]
  },
  {
   "cell_type": "code",
   "execution_count": null,
   "id": "71ab55d6-8491-4d63-bb1c-92ff0e6095e0",
   "metadata": {},
   "outputs": [],
   "source": [
    "#skewness measures the asymmetry of a distribution around its mean.\n",
    "#Positive Skew (Right-Skewed):The tail is longer on the right side.\n",
    "#                             Most values are concentrated on the left, with a few large values stretching the tail.\n",
    "#                             Mean > Median > Mode\n",
    "#Negative Skew (Left-Skewed):The tail is longer on the left side.\n",
    "#                            Most values are concentrated on the right, with some small values on the left.\n",
    "#                            Mean < Median < Mode"
   ]
  },
  {
   "cell_type": "code",
   "execution_count": 5,
   "id": "b84fb530-b817-4225-b5bf-b336cc4b52c1",
   "metadata": {},
   "outputs": [
    {
     "name": "stdout",
     "output_type": "stream",
     "text": [
      "mode is 19\n",
      "mean is 19.4\n",
      "median is 19.0\n"
     ]
    }
   ],
   "source": [
    "#Implement a Python program to compute the mean, median, and mode of a given list of numbers.\n",
    "numbers = [12, 15, 12, 18, 19, 12, 20, 22, 19, 19, 24, 24, 24, 26, 28]\n",
    "import numpy as np\n",
    "import statistics\n",
    "print(\"mode is\",statistics.mode(numbers))\n",
    "print(\"mean is\",np.mean(numbers))\n",
    "print(\"median is\",np.median(numbers))"
   ]
  },
  {
   "cell_type": "code",
   "execution_count": 6,
   "id": "cc9969dc-7dd9-417e-9915-5fb49c2c518b",
   "metadata": {},
   "outputs": [
    {
     "name": "stdout",
     "output_type": "stream",
     "text": [
      "Covariance: 362.5\n",
      "Correlation Coefficient: 0.9898129771475668\n"
     ]
    }
   ],
   "source": [
    "#Compute the covariance and correlation coefficient between the following two datasets provided as lists in Python:\n",
    "list_x = [10, 20, 30, 40, 50]\n",
    "list_y = [10, 25, 35, 45, 60]\n",
    "import numpy as np\n",
    "x = np.array(list_x)\n",
    "y = np.array(list_y)\n",
    "\n",
    "# Covariance matrix\n",
    "cov_matrix = np.cov(x, y, bias=False)\n",
    "covariance = cov_matrix[0, 1]\n",
    "\n",
    "# Correlation coefficient matrix\n",
    "corr_matrix = np.corrcoef(x, y)\n",
    "correlation = corr_matrix[0, 1]\n",
    "\n",
    "print(\"Covariance:\", covariance)\n",
    "print(\"Correlation Coefficient:\", correlation)\n"
   ]
  },
  {
   "cell_type": "code",
   "execution_count": 8,
   "id": "87b4983f-88a1-4e8f-b89f-05524d8f8cf9",
   "metadata": {},
   "outputs": [
    {
     "name": "stdout",
     "output_type": "stream",
     "text": [
      "Q1 (25th percentile): 17.25\n",
      "Q3 (75th percentile): 23.25\n",
      "IQR: 6.0\n",
      "Lower Bound: 8.25\n",
      "Upper Bound: 32.25\n",
      "Outliers: [35]\n"
     ]
    },
    {
     "data": {
      "image/png": "[encoded data removed]",
      "text/plain": [
       "<Figure size 640x480 with 1 Axes>"
      ]
     },
     "metadata": {},
     "output_type": "display_data"
    }
   ],
   "source": [
    "#Write a Python script to draw a boxplot for the following numeric list and identify its outliers. Explain the result:\n",
    "data = [12, 14, 14, 15, 18, 19, 19, 21, 22, 22, 23, 23, 24, 26, 29, 35]\n",
    "import seaborn as sns\n",
    "sns.boxplot(data)\n",
    "q1 = np.percentile(data, 25)\n",
    "q3 = np.percentile(data, 75)\n",
    "iqr = q3 - q1\n",
    "\n",
    "lower_bound = q1 - 1.5 * iqr\n",
    "upper_bound = q3 + 1.5 * iqr\n",
    "\n",
    "outliers = [x for x in data if x < lower_bound or x > upper_bound]\n",
    "print(\"Q1 (25th percentile):\", q1)\n",
    "print(\"Q3 (75th percentile):\", q3)\n",
    "print(\"IQR:\", iqr)\n",
    "print(\"Lower Bound:\", lower_bound)\n",
    "print(\"Upper Bound:\", upper_bound)\n",
    "print(\"Outliers:\", outliers)"
   ]
  },
  {
   "cell_type": "code",
   "execution_count": 17,
   "id": "31e00890-aa6f-47da-b0b7-74ed30fcc411",
   "metadata": {},
   "outputs": [
    {
     "name": "stdout",
     "output_type": "stream",
     "text": [
      "Covariance: 84875.0\n",
      "Correlation Coefficient: 0.9935824101653329\n"
     ]
    }
   ],
   "source": [
    "#You are working as a data analyst in an e-commerce company. The marketing team wants to know if there is a relationship between advertising spend and daily sales.\n",
    "#● Explain how you would use covariance and correlation to explore this relationship.\n",
    "#● Write Python code to compute the correlation between the two lists:\n",
    "advertising_spend = [200, 250, 300, 400, 500]\n",
    "daily_sales = [2200, 2450, 2750, 3200, 4000]\n",
    "import numpy as np\n",
    "\n",
    "# Convert to numpy arrays\n",
    "x = np.array(advertising_spend)\n",
    "y = np.array(daily_sales)\n",
    "\n",
    "# Compute covariance matrix\n",
    "cov_matrix = np.cov(x, y, bias=False)\n",
    "covariance = cov_matrix[0, 1]\n",
    "\n",
    "# Compute correlation matrix\n",
    "corr_matrix = np.corrcoef(x, y)\n",
    "correlation = corr_matrix[0, 1]\n",
    "\n",
    "# Print results\n",
    "print(\"Covariance:\", covariance)\n",
    "print(\"Correlation Coefficient:\", correlation)\n"
   ]
  },
  {
   "cell_type": "code",
   "execution_count": 18,
   "id": "b6ab781f-76d6-438a-9249-4a7703973aed",
   "metadata": {},
   "outputs": [
    {
     "name": "stdout",
     "output_type": "stream",
     "text": [
      "Mean: 7.333333333333333\n",
      "Median: 7\n",
      "Mode: 7\n",
      "Standard Deviation: 1.632993161855452\n"
     ]
    },
    {
     "data": {
      "image/png": "[encoded data removed]",
      "text/plain": [
       "<Figure size 800x500 with 1 Axes>"
      ]
     },
     "metadata": {},
     "output_type": "display_data"
    }
   ],
   "source": [
    "#Your team has collected customer satisfaction survey data on a scale of 1-10 and wants to understand its distribution before launching a new product.\n",
    "#● Explain which summary statistics and visualizations (e.g. mean, standard deviation, histogram) you’d use.\n",
    "#● Write Python code to create a histogram using Matplotlib for the survey data:\n",
    "survey_scores = [7, 8, 5, 9, 6, 7, 8, 9, 10, 4, 7, 6, 9, 8, 7]\n",
    "import matplotlib.pyplot as plt\n",
    "import numpy as np\n",
    "import statistics\n",
    "\n",
    "# Summary statistics\n",
    "mean_score = statistics.mean(survey_scores)\n",
    "median_score = statistics.median(survey_scores)\n",
    "mode_score = statistics.mode(survey_scores)\n",
    "std_dev = statistics.stdev(survey_scores)\n",
    "\n",
    "print(\"Mean:\", mean_score)\n",
    "print(\"Median:\", median_score)\n",
    "print(\"Mode:\", mode_score)\n",
    "print(\"Standard Deviation:\", std_dev)\n",
    "\n",
    "# Histogram plot\n",
    "plt.figure(figsize=(8, 5))\n",
    "plt.hist(survey_scores, bins=7, color='skyblue', edgecolor='black')\n",
    "plt.title(\"Customer Satisfaction Survey Distribution\")\n",
    "plt.xlabel(\"Satisfaction Score\")\n",
    "plt.ylabel(\"Number of Responses\")\n",
    "plt.grid(axis='y', linestyle='--', alpha=0.7)\n",
    "plt.show()"
   ]
  },
  {
   "cell_type": "code",
   "execution_count": null,
   "id": "bba58387-adb1-4f37-94cc-492f97eade14",
   "metadata": {},
   "outputs": [],
   "source": []
  }
 ],
 "metadata": {
  "kernelspec": {
   "display_name": "Python 3 (ipykernel)",
   "language": "python",
   "name": "python3"
  },
  "language_info": {
   "codemirror_mode": {
    "name": "ipython",
    "version": 3
   },
   "file_extension": ".py",
   "mimetype": "text/x-python",
   "name": "python",
   "nbconvert_exporter": "python",
   "pygments_lexer": "ipython3",
   "version": "3.12.7"
  }
 },
 "nbformat": 4,
 "nbformat_minor": 5
}
